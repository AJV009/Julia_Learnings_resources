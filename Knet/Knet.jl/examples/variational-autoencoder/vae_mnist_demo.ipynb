{
 "cells": [
  {
   "cell_type": "code",
   "execution_count": 1,
   "metadata": {
    "scrolled": true
   },
   "outputs": [
    {
     "data": {
      "text/plain": [
       "Main.VAE"
      ]
     },
     "execution_count": 1,
     "metadata": {},
     "output_type": "execute_result"
    }
   ],
   "source": [
    "include(\"vae_mnist.jl\")"
   ]
  },
  {
   "cell_type": "code",
   "execution_count": 2,
   "metadata": {},
   "outputs": [
    {
     "name": "stderr",
     "output_type": "stream",
     "text": [
      "┌ Info: using Knet.KnetArray{Float32,N} where N\n",
      "└ @ Main.VAE /scratch/users/dyuret/.julia/dev/Knet/examples/variational-autoencoder/vae_mnist.jl:128\n",
      "┌ Info: Loading MNIST...\n",
      "└ @ Main.VAE /kuacc/users/dyuret/.julia/dev/Knet/data/mnist.jl:33\n"
     ]
    },
    {
     "name": "stdout",
     "output_type": "stream",
     "text": [
      "(:epoch, 0, :trn, 0.69407445f0, :tst, 0.6940691f0)\n",
      "  0.000003 seconds (1 allocation: 32 bytes)\n"
     ]
    }
   ],
   "source": [
    "# obtain a non-trained network\n",
    "θ, ϕ = VAE.main(\"--infotime 10 --seed 1 --epochs 0\");"
   ]
  },
  {
   "cell_type": "code",
   "execution_count": 3,
   "metadata": {},
   "outputs": [
    {
     "data": {
      "image/png": "[encoded data removed]",
      "text/plain": [
       "146×146 reinterpret(Gray{Float64}, ::Array{Float64,2}):\n",
       " Gray{Float64}(1.0)  Gray{Float64}(1.0)       Gray{Float64}(1.0)       …  Gray{Float64}(1.0)       Gray{Float64}(1.0)       Gray{Float64}(1.0)\n",
       " Gray{Float64}(1.0)  Gray{Float64}(0.465493)  Gray{Float64}(0.493026)     Gray{Float64}(0.518109)  Gray{Float64}(0.5342)    Gray{Float64}(1.0)\n",
       " Gray{Float64}(1.0)  Gray{Float64}(0.473488)  Gray{Float64}(0.494953)     Gray{Float64}(0.506765)  Gray{Float64}(0.483546)  Gray{Float64}(1.0)\n",
       " Gray{Float64}(1.0)  Gray{Float64}(0.515756)  Gray{Float64}(0.481142)     Gray{Float64}(0.511525)  Gray{Float64}(0.486153)  Gray{Float64}(1.0)\n",
       " Gray{Float64}(1.0)  Gray{Float64}(0.498347)  Gray{Float64}(0.528746)     Gray{Float64}(0.540031)  Gray{Float64}(0.487542)  Gray{Float64}(1.0)\n",
       " Gray{Float64}(1.0)  Gray{Float64}(0.490459)  Gray{Float64}(0.49687)   …  Gray{Float64}(0.491125)  Gray{Float64}(0.510172)  Gray{Float64}(1.0)\n",
       " Gray{Float64}(1.0)  Gray{Float64}(0.519256)  Gray{Float64}(0.509888)     Gray{Float64}(0.479246)  Gray{Float64}(0.518007)  Gray{Float64}(1.0)\n",
       " Gray{Float64}(1.0)  Gray{Float64}(0.527398)  Gray{Float64}(0.535441)     Gray{Float64}(0.492743)  Gray{Float64}(0.507711)  Gray{Float64}(1.0)\n",
       " Gray{Float64}(1.0)  Gray{Float64}(0.470825)  Gray{Float64}(0.477394)     Gray{Float64}(0.518789)  Gray{Float64}(0.53604)   Gray{Float64}(1.0)\n",
       " Gray{Float64}(1.0)  Gray{Float64}(0.491555)  Gray{Float64}(0.484675)     Gray{Float64}(0.500074)  Gray{Float64}(0.529853)  Gray{Float64}(1.0)\n",
       " Gray{Float64}(1.0)  Gray{Float64}(0.480501)  Gray{Float64}(0.513466)  …  Gray{Float64}(0.487408)  Gray{Float64}(0.477061)  Gray{Float64}(1.0)\n",
       " Gray{Float64}(1.0)  Gray{Float64}(0.517309)  Gray{Float64}(0.510397)     Gray{Float64}(0.496706)  Gray{Float64}(0.471051)  Gray{Float64}(1.0)\n",
       " Gray{Float64}(1.0)  Gray{Float64}(0.536235)  Gray{Float64}(0.519827)     Gray{Float64}(0.498605)  Gray{Float64}(0.503895)  Gray{Float64}(1.0)\n",
       " ⋮                                                                     ⋱                                                    ⋮                 \n",
       " Gray{Float64}(1.0)  Gray{Float64}(0.503982)  Gray{Float64}(0.487512)     Gray{Float64}(0.538122)  Gray{Float64}(0.474838)  Gray{Float64}(1.0)\n",
       " Gray{Float64}(1.0)  Gray{Float64}(0.502302)  Gray{Float64}(0.480775)  …  Gray{Float64}(0.503316)  Gray{Float64}(0.518814)  Gray{Float64}(1.0)\n",
       " Gray{Float64}(1.0)  Gray{Float64}(0.496814)  Gray{Float64}(0.489403)     Gray{Float64}(0.546551)  Gray{Float64}(0.507969)  Gray{Float64}(1.0)\n",
       " Gray{Float64}(1.0)  Gray{Float64}(0.489236)  Gray{Float64}(0.492552)     Gray{Float64}(0.497295)  Gray{Float64}(0.517842)  Gray{Float64}(1.0)\n",
       " Gray{Float64}(1.0)  Gray{Float64}(0.465844)  Gray{Float64}(0.503064)     Gray{Float64}(0.514119)  Gray{Float64}(0.476883)  Gray{Float64}(1.0)\n",
       " Gray{Float64}(1.0)  Gray{Float64}(0.49738)   Gray{Float64}(0.473747)     Gray{Float64}(0.475964)  Gray{Float64}(0.4783)    Gray{Float64}(1.0)\n",
       " Gray{Float64}(1.0)  Gray{Float64}(0.497248)  Gray{Float64}(0.497163)  …  Gray{Float64}(0.499201)  Gray{Float64}(0.494201)  Gray{Float64}(1.0)\n",
       " Gray{Float64}(1.0)  Gray{Float64}(0.496986)  Gray{Float64}(0.480509)     Gray{Float64}(0.468698)  Gray{Float64}(0.550977)  Gray{Float64}(1.0)\n",
       " Gray{Float64}(1.0)  Gray{Float64}(0.486814)  Gray{Float64}(0.49371)      Gray{Float64}(0.483821)  Gray{Float64}(0.47438)   Gray{Float64}(1.0)\n",
       " Gray{Float64}(1.0)  Gray{Float64}(0.510333)  Gray{Float64}(0.494657)     Gray{Float64}(0.514079)  Gray{Float64}(0.456162)  Gray{Float64}(1.0)\n",
       " Gray{Float64}(1.0)  Gray{Float64}(0.517069)  Gray{Float64}(0.496021)     Gray{Float64}(0.485805)  Gray{Float64}(0.493946)  Gray{Float64}(1.0)\n",
       " Gray{Float64}(1.0)  Gray{Float64}(1.0)       Gray{Float64}(1.0)       …  Gray{Float64}(1.0)       Gray{Float64}(1.0)       Gray{Float64}(1.0)"
      ]
     },
     "metadata": {},
     "output_type": "display_data"
    }
   ],
   "source": [
    "# generate examples with the non-trained network\n",
    "VAE.plot_dream(θ);"
   ]
  },
  {
   "cell_type": "code",
   "execution_count": 4,
   "metadata": {},
   "outputs": [
    {
     "name": "stderr",
     "output_type": "stream",
     "text": [
      "┌ Info: using Knet.KnetArray{Float32,N} where N\n",
      "└ @ Main.VAE /scratch/users/dyuret/.julia/dev/Knet/examples/variational-autoencoder/vae_mnist.jl:128\n"
     ]
    },
    {
     "name": "stdout",
     "output_type": "stream",
     "text": [
      "(:epoch, 0, :trn, 0.69407445f0, :tst, 0.6940691f0)\n",
      "(:epoch, 10, :trn, 0.1342375f0, :tst, 0.13388233f0)\n",
      "(:epoch, 20, :trn, 0.13172625f0, :tst, 0.13162959f0)\n",
      "(:epoch, 30, :trn, 0.13075073f0, :tst, 0.13084349f0)\n",
      "(:epoch, 40, :trn, 0.1299894f0, :tst, 0.13014986f0)\n",
      "(:epoch, 50, :trn, 0.12993519f0, :tst, 0.13022722f0)\n",
      "(:epoch, 60, :trn, 0.12906802f0, :tst, 0.12956339f0)\n",
      "(:epoch, 70, :trn, 0.12878795f0, :tst, 0.12937565f0)\n",
      "(:epoch, 80, :trn, 0.128444f0, :tst, 0.1289516f0)\n",
      "(:epoch, 90, :trn, 0.12825556f0, :tst, 0.12884992f0)\n",
      "(:epoch, 100, :trn, 0.12784874f0, :tst, 0.128488f0)\n",
      "190.181684 seconds (163.13 M allocations: 25.435 GiB, 2.31% gc time)\n"
     ]
    }
   ],
   "source": [
    "# train a VAE network for 100 epochs\n",
    "θ, ϕ = VAE.main(\"--infotime 10 --seed 1 --epochs 100\"); # 184s, 0.12784874f0, 0.128488f0"
   ]
  },
  {
   "cell_type": "code",
   "execution_count": 5,
   "metadata": {},
   "outputs": [
    {
     "data": {
      "image/png": "[encoded data removed]",
      "text/plain": [
       "146×146 reinterpret(Gray{Float64}, ::Array{Float64,2}):\n",
       " Gray{Float64}(1.0)  Gray{Float64}(1.0)          Gray{Float64}(1.0)          …  Gray{Float64}(1.0)          Gray{Float64}(1.0)\n",
       " Gray{Float64}(1.0)  Gray{Float64}(5.42145e-10)  Gray{Float64}(8.47233e-10)     Gray{Float64}(3.13802e-10)  Gray{Float64}(1.0)\n",
       " Gray{Float64}(1.0)  Gray{Float64}(4.6406e-10)   Gray{Float64}(5.05738e-10)     Gray{Float64}(2.70206e-10)  Gray{Float64}(1.0)\n",
       " Gray{Float64}(1.0)  Gray{Float64}(6.48157e-10)  Gray{Float64}(7.93943e-10)     Gray{Float64}(4.85969e-10)  Gray{Float64}(1.0)\n",
       " Gray{Float64}(1.0)  Gray{Float64}(7.24119e-10)  Gray{Float64}(4.92327e-10)     Gray{Float64}(4.69939e-10)  Gray{Float64}(1.0)\n",
       " Gray{Float64}(1.0)  Gray{Float64}(5.23383e-10)  Gray{Float64}(6.41949e-12)  …  Gray{Float64}(7.76656e-21)  Gray{Float64}(1.0)\n",
       " Gray{Float64}(1.0)  Gray{Float64}(5.08423e-10)  Gray{Float64}(5.73705e-10)     Gray{Float64}(1.14637e-15)  Gray{Float64}(1.0)\n",
       " Gray{Float64}(1.0)  Gray{Float64}(4.51368e-10)  Gray{Float64}(8.73778e-12)     Gray{Float64}(3.19496e-15)  Gray{Float64}(1.0)\n",
       " Gray{Float64}(1.0)  Gray{Float64}(3.13489e-12)  Gray{Float64}(1.82091e-7)      Gray{Float64}(6.17992e-20)  Gray{Float64}(1.0)\n",
       " Gray{Float64}(1.0)  Gray{Float64}(4.40692e-11)  Gray{Float64}(1.41885e-5)      Gray{Float64}(6.1973e-24)   Gray{Float64}(1.0)\n",
       " Gray{Float64}(1.0)  Gray{Float64}(5.67429e-9)   Gray{Float64}(0.000387833)  …  Gray{Float64}(2.65475e-26)  Gray{Float64}(1.0)\n",
       " Gray{Float64}(1.0)  Gray{Float64}(8.47838e-10)  Gray{Float64}(0.000291169)     Gray{Float64}(2.84282e-25)  Gray{Float64}(1.0)\n",
       " Gray{Float64}(1.0)  Gray{Float64}(3.26765e-9)   Gray{Float64}(1.90195e-5)      Gray{Float64}(1.92175e-17)  Gray{Float64}(1.0)\n",
       " ⋮                                                                           ⋱                              ⋮                 \n",
       " Gray{Float64}(1.0)  Gray{Float64}(2.03766e-11)  Gray{Float64}(1.02911e-7)      Gray{Float64}(1.96437e-14)  Gray{Float64}(1.0)\n",
       " Gray{Float64}(1.0)  Gray{Float64}(2.5228e-10)   Gray{Float64}(1.9947e-9)    …  Gray{Float64}(4.31635e-16)  Gray{Float64}(1.0)\n",
       " Gray{Float64}(1.0)  Gray{Float64}(6.84054e-10)  Gray{Float64}(1.15131e-8)      Gray{Float64}(4.34582e-11)  Gray{Float64}(1.0)\n",
       " Gray{Float64}(1.0)  Gray{Float64}(1.13391e-11)  Gray{Float64}(1.05374e-15)     Gray{Float64}(4.55796e-8)   Gray{Float64}(1.0)\n",
       " Gray{Float64}(1.0)  Gray{Float64}(9.12632e-8)   Gray{Float64}(4.26046e-10)     Gray{Float64}(2.25448e-18)  Gray{Float64}(1.0)\n",
       " Gray{Float64}(1.0)  Gray{Float64}(1.05808e-7)   Gray{Float64}(1.52922e-8)      Gray{Float64}(1.13629e-19)  Gray{Float64}(1.0)\n",
       " Gray{Float64}(1.0)  Gray{Float64}(2.06093e-11)  Gray{Float64}(1.30257e-11)  …  Gray{Float64}(3.8568e-10)   Gray{Float64}(1.0)\n",
       " Gray{Float64}(1.0)  Gray{Float64}(1.53596e-11)  Gray{Float64}(1.84837e-11)     Gray{Float64}(2.35693e-10)  Gray{Float64}(1.0)\n",
       " Gray{Float64}(1.0)  Gray{Float64}(1.66062e-11)  Gray{Float64}(1.31266e-11)     Gray{Float64}(1.98562e-10)  Gray{Float64}(1.0)\n",
       " Gray{Float64}(1.0)  Gray{Float64}(1.71134e-11)  Gray{Float64}(1.01859e-11)     Gray{Float64}(1.61589e-10)  Gray{Float64}(1.0)\n",
       " Gray{Float64}(1.0)  Gray{Float64}(1.64764e-11)  Gray{Float64}(2.48355e-11)     Gray{Float64}(1.9981e-10)   Gray{Float64}(1.0)\n",
       " Gray{Float64}(1.0)  Gray{Float64}(1.0)          Gray{Float64}(1.0)          …  Gray{Float64}(1.0)          Gray{Float64}(1.0)"
      ]
     },
     "metadata": {},
     "output_type": "display_data"
    }
   ],
   "source": [
    "# generate examples with the trained network\n",
    "VAE.plot_dream(θ);"
   ]
  }
 ],
 "metadata": {
  "kernelspec": {
   "display_name": "Julia 1.0.0",
   "language": "julia",
   "name": "julia-1.0"
  },
  "language_info": {
   "file_extension": ".jl",
   "mimetype": "application/julia",
   "name": "julia",
   "version": "1.0.0"
  }
 },
 "nbformat": 4,
 "nbformat_minor": 2
}
