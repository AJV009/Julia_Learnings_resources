{
 "cells": [
  {
   "cell_type": "code",
   "execution_count": 1,
   "metadata": {
    "scrolled": false
   },
   "outputs": [],
   "source": [
    "using Knet\n",
    "include(\"dcgan.jl\");"
   ]
  },
  {
   "cell_type": "code",
   "execution_count": 2,
   "metadata": {},
   "outputs": [],
   "source": [
    "z = DCGAN.sample_noise(Knet.KnetArray{Float32},100,64);"
   ]
  },
  {
   "cell_type": "code",
   "execution_count": 3,
   "metadata": {
    "scrolled": true
   },
   "outputs": [
    {
     "name": "stderr",
     "output_type": "stream",
     "text": [
      "┌ Info: Loading MNIST...\n",
      "└ @ Main.DCGAN /kuacc/users/dyuret/.julia/dev/Knet/data/mnist.jl:33\n"
     ]
    },
    {
     "name": "stdout",
     "output_type": "stream",
     "text": [
      "training started...\n"
     ]
    }
   ],
   "source": [
    "wd, wg, md, mg = DCGAN.main(\"--epochs 0 --seed 1\");"
   ]
  },
  {
   "cell_type": "code",
   "execution_count": 4,
   "metadata": {
    "scrolled": false
   },
   "outputs": [
    {
     "data": {
      "image/png": "[encoded data removed]",
      "text/plain": [
       "233×233 reinterpret(Gray{Float64}, ::Array{Float64,2}):\n",
       " Gray{Float64}(1.0)  Gray{Float64}(1.0)       Gray{Float64}(1.0)       …  Gray{Float64}(1.0)       Gray{Float64}(1.0)       Gray{Float64}(1.0)\n",
       " Gray{Float64}(1.0)  Gray{Float64}(0.500948)  Gray{Float64}(0.500948)     Gray{Float64}(0.500948)  Gray{Float64}(0.500948)  Gray{Float64}(1.0)\n",
       " Gray{Float64}(1.0)  Gray{Float64}(0.500948)  Gray{Float64}(0.500948)     Gray{Float64}(0.500948)  Gray{Float64}(0.500948)  Gray{Float64}(1.0)\n",
       " Gray{Float64}(1.0)  Gray{Float64}(0.500948)  Gray{Float64}(0.500948)     Gray{Float64}(0.500948)  Gray{Float64}(0.500948)  Gray{Float64}(1.0)\n",
       " Gray{Float64}(1.0)  Gray{Float64}(0.500948)  Gray{Float64}(0.500948)     Gray{Float64}(0.500948)  Gray{Float64}(0.500948)  Gray{Float64}(1.0)\n",
       " Gray{Float64}(1.0)  Gray{Float64}(0.500948)  Gray{Float64}(0.500948)  …  Gray{Float64}(0.500948)  Gray{Float64}(0.500948)  Gray{Float64}(1.0)\n",
       " Gray{Float64}(1.0)  Gray{Float64}(0.500948)  Gray{Float64}(0.500948)     Gray{Float64}(0.500948)  Gray{Float64}(0.500948)  Gray{Float64}(1.0)\n",
       " Gray{Float64}(1.0)  Gray{Float64}(0.500948)  Gray{Float64}(0.500948)     Gray{Float64}(0.500948)  Gray{Float64}(0.500948)  Gray{Float64}(1.0)\n",
       " Gray{Float64}(1.0)  Gray{Float64}(0.500948)  Gray{Float64}(0.500949)     Gray{Float64}(0.500948)  Gray{Float64}(0.500948)  Gray{Float64}(1.0)\n",
       " Gray{Float64}(1.0)  Gray{Float64}(0.500948)  Gray{Float64}(0.500947)     Gray{Float64}(0.500949)  Gray{Float64}(0.500949)  Gray{Float64}(1.0)\n",
       " Gray{Float64}(1.0)  Gray{Float64}(0.500948)  Gray{Float64}(0.500949)  …  Gray{Float64}(0.500948)  Gray{Float64}(0.500948)  Gray{Float64}(1.0)\n",
       " Gray{Float64}(1.0)  Gray{Float64}(0.500948)  Gray{Float64}(0.500948)     Gray{Float64}(0.500948)  Gray{Float64}(0.500948)  Gray{Float64}(1.0)\n",
       " Gray{Float64}(1.0)  Gray{Float64}(0.500948)  Gray{Float64}(0.500949)     Gray{Float64}(0.500948)  Gray{Float64}(0.500948)  Gray{Float64}(1.0)\n",
       " ⋮                                                                     ⋱  ⋮                                                                   \n",
       " Gray{Float64}(1.0)  Gray{Float64}(0.500948)  Gray{Float64}(0.500949)     Gray{Float64}(0.500948)  Gray{Float64}(0.500948)  Gray{Float64}(1.0)\n",
       " Gray{Float64}(1.0)  Gray{Float64}(0.500948)  Gray{Float64}(0.500948)     Gray{Float64}(0.500947)  Gray{Float64}(0.500948)  Gray{Float64}(1.0)\n",
       " Gray{Float64}(1.0)  Gray{Float64}(0.500947)  Gray{Float64}(0.500948)     Gray{Float64}(0.500948)  Gray{Float64}(0.500948)  Gray{Float64}(1.0)\n",
       " Gray{Float64}(1.0)  Gray{Float64}(0.500948)  Gray{Float64}(0.500948)     Gray{Float64}(0.500947)  Gray{Float64}(0.500948)  Gray{Float64}(1.0)\n",
       " Gray{Float64}(1.0)  Gray{Float64}(0.500948)  Gray{Float64}(0.500948)  …  Gray{Float64}(0.500948)  Gray{Float64}(0.500948)  Gray{Float64}(1.0)\n",
       " Gray{Float64}(1.0)  Gray{Float64}(0.500948)  Gray{Float64}(0.500948)     Gray{Float64}(0.500948)  Gray{Float64}(0.500948)  Gray{Float64}(1.0)\n",
       " Gray{Float64}(1.0)  Gray{Float64}(0.500948)  Gray{Float64}(0.500948)     Gray{Float64}(0.500948)  Gray{Float64}(0.500949)  Gray{Float64}(1.0)\n",
       " Gray{Float64}(1.0)  Gray{Float64}(0.500948)  Gray{Float64}(0.500948)     Gray{Float64}(0.500948)  Gray{Float64}(0.500948)  Gray{Float64}(1.0)\n",
       " Gray{Float64}(1.0)  Gray{Float64}(0.500948)  Gray{Float64}(0.500948)     Gray{Float64}(0.500948)  Gray{Float64}(0.500948)  Gray{Float64}(1.0)\n",
       " Gray{Float64}(1.0)  Gray{Float64}(0.500948)  Gray{Float64}(0.500948)  …  Gray{Float64}(0.500948)  Gray{Float64}(0.500948)  Gray{Float64}(1.0)\n",
       " Gray{Float64}(1.0)  Gray{Float64}(0.500948)  Gray{Float64}(0.500948)     Gray{Float64}(0.500948)  Gray{Float64}(0.500948)  Gray{Float64}(1.0)\n",
       " Gray{Float64}(1.0)  Gray{Float64}(1.0)       Gray{Float64}(1.0)          Gray{Float64}(1.0)       Gray{Float64}(1.0)       Gray{Float64}(1.0)"
      ]
     },
     "metadata": {},
     "output_type": "display_data"
    }
   ],
   "source": [
    "DCGAN.plot_generations(wg, mg; z=z);"
   ]
  },
  {
   "cell_type": "code",
   "execution_count": 5,
   "metadata": {},
   "outputs": [
    {
     "name": "stdout",
     "output_type": "stream",
     "text": [
      "training started...\n",
      " 33.151022 seconds (28.80 M allocations: 1.691 GiB, 15.40% gc time)\n",
      "(:epoch, 1, :dloss, 1.0359865f0, :gloss, 1.0456004f0)\n",
      " 13.092222 seconds (7.92 M allocations: 655.951 MiB, 1.06% gc time)\n",
      "(:epoch, 2, :dloss, 0.9258089f0, :gloss, 1.2359008f0)\n",
      " 13.093152 seconds (7.94 M allocations: 656.175 MiB, 1.09% gc time)\n",
      "(:epoch, 3, :dloss, 0.8401469f0, :gloss, 1.379799f0)\n",
      " 13.203502 seconds (7.94 M allocations: 656.139 MiB, 1.02% gc time)\n",
      "(:epoch, 4, :dloss, 0.78719443f0, :gloss, 1.5027276f0)\n",
      " 13.091020 seconds (7.94 M allocations: 656.041 MiB, 1.07% gc time)\n",
      "(:epoch, 5, :dloss, 0.73330337f0, :gloss, 1.6014324f0)\n",
      " 13.391387 seconds (7.94 M allocations: 656.151 MiB, 1.25% gc time)\n",
      "(:epoch, 6, :dloss, 0.70610285f0, :gloss, 1.6730818f0)\n",
      " 13.348711 seconds (7.94 M allocations: 655.935 MiB, 1.41% gc time)\n",
      "(:epoch, 7, :dloss, 0.67186964f0, :gloss, 1.7409074f0)\n",
      " 13.357577 seconds (7.94 M allocations: 656.120 MiB, 1.40% gc time)\n",
      "(:epoch, 8, :dloss, 0.6605091f0, :gloss, 1.8058909f0)\n",
      " 13.342279 seconds (7.94 M allocations: 656.024 MiB, 1.38% gc time)\n",
      "(:epoch, 9, :dloss, 0.64583325f0, :gloss, 1.83894f0)\n",
      " 13.282196 seconds (7.94 M allocations: 656.177 MiB, 1.22% gc time)\n",
      "(:epoch, 10, :dloss, 0.63358414f0, :gloss, 1.9018079f0)\n"
     ]
    }
   ],
   "source": [
    "wd, wg, md, mg = DCGAN.main(\"--epochs 10 --seed 1\");"
   ]
  },
  {
   "cell_type": "code",
   "execution_count": 6,
   "metadata": {},
   "outputs": [
    {
     "data": {
      "image/png": "[encoded data removed]",
      "text/plain": [
       "233×233 reinterpret(Gray{Float64}, ::Array{Float64,2}):\n",
       " Gray{Float64}(1.0)  Gray{Float64}(1.0)         Gray{Float64}(1.0)          …  Gray{Float64}(1.0)         Gray{Float64}(1.0)\n",
       " Gray{Float64}(1.0)  Gray{Float64}(0.112131)    Gray{Float64}(0.0607674)       Gray{Float64}(0.128719)    Gray{Float64}(1.0)\n",
       " Gray{Float64}(1.0)  Gray{Float64}(0.0570908)   Gray{Float64}(0.0268157)       Gray{Float64}(0.0729916)   Gray{Float64}(1.0)\n",
       " Gray{Float64}(1.0)  Gray{Float64}(0.0156606)   Gray{Float64}(0.00387567)      Gray{Float64}(0.0231529)   Gray{Float64}(1.0)\n",
       " Gray{Float64}(1.0)  Gray{Float64}(0.00796762)  Gray{Float64}(0.00143993)      Gray{Float64}(0.0166104)   Gray{Float64}(1.0)\n",
       " Gray{Float64}(1.0)  Gray{Float64}(0.00403592)  Gray{Float64}(0.000594288)  …  Gray{Float64}(0.00898179)  Gray{Float64}(1.0)\n",
       " Gray{Float64}(1.0)  Gray{Float64}(0.00593236)  Gray{Float64}(0.00176623)      Gray{Float64}(0.0121648)   Gray{Float64}(1.0)\n",
       " Gray{Float64}(1.0)  Gray{Float64}(0.00521025)  Gray{Float64}(0.00103688)      Gray{Float64}(0.0147743)   Gray{Float64}(1.0)\n",
       " Gray{Float64}(1.0)  Gray{Float64}(0.00570032)  Gray{Float64}(0.00169846)      Gray{Float64}(0.0255868)   Gray{Float64}(1.0)\n",
       " Gray{Float64}(1.0)  Gray{Float64}(0.00287673)  Gray{Float64}(0.000282228)     Gray{Float64}(0.0160781)   Gray{Float64}(1.0)\n",
       " Gray{Float64}(1.0)  Gray{Float64}(0.00246871)  Gray{Float64}(0.000356585)  …  Gray{Float64}(0.0191758)   Gray{Float64}(1.0)\n",
       " Gray{Float64}(1.0)  Gray{Float64}(0.00173229)  Gray{Float64}(0.000232637)     Gray{Float64}(0.0222301)   Gray{Float64}(1.0)\n",
       " Gray{Float64}(1.0)  Gray{Float64}(0.0014326)   Gray{Float64}(0.000199378)     Gray{Float64}(0.0126501)   Gray{Float64}(1.0)\n",
       " ⋮                                                                          ⋱                                               \n",
       " Gray{Float64}(1.0)  Gray{Float64}(0.00838754)  Gray{Float64}(0.00114551)      Gray{Float64}(0.00311816)  Gray{Float64}(1.0)\n",
       " Gray{Float64}(1.0)  Gray{Float64}(0.00828069)  Gray{Float64}(0.00111997)      Gray{Float64}(0.00211295)  Gray{Float64}(1.0)\n",
       " Gray{Float64}(1.0)  Gray{Float64}(0.00782621)  Gray{Float64}(0.000884593)     Gray{Float64}(0.00252092)  Gray{Float64}(1.0)\n",
       " Gray{Float64}(1.0)  Gray{Float64}(0.00415558)  Gray{Float64}(0.000114173)     Gray{Float64}(0.0018307)   Gray{Float64}(1.0)\n",
       " Gray{Float64}(1.0)  Gray{Float64}(0.00330788)  Gray{Float64}(8.94368e-5)   …  Gray{Float64}(0.00254136)  Gray{Float64}(1.0)\n",
       " Gray{Float64}(1.0)  Gray{Float64}(0.00465375)  Gray{Float64}(0.00045675)      Gray{Float64}(0.00321242)  Gray{Float64}(1.0)\n",
       " Gray{Float64}(1.0)  Gray{Float64}(0.00729901)  Gray{Float64}(0.00157252)      Gray{Float64}(0.00516024)  Gray{Float64}(1.0)\n",
       " Gray{Float64}(1.0)  Gray{Float64}(0.018855)    Gray{Float64}(0.00463274)      Gray{Float64}(0.00847745)  Gray{Float64}(1.0)\n",
       " Gray{Float64}(1.0)  Gray{Float64}(0.0254191)   Gray{Float64}(0.00377965)      Gray{Float64}(0.0155607)   Gray{Float64}(1.0)\n",
       " Gray{Float64}(1.0)  Gray{Float64}(0.0681637)   Gray{Float64}(0.0165324)    …  Gray{Float64}(0.0354999)   Gray{Float64}(1.0)\n",
       " Gray{Float64}(1.0)  Gray{Float64}(0.169676)    Gray{Float64}(0.105701)        Gray{Float64}(0.116786)    Gray{Float64}(1.0)\n",
       " Gray{Float64}(1.0)  Gray{Float64}(1.0)         Gray{Float64}(1.0)             Gray{Float64}(1.0)         Gray{Float64}(1.0)"
      ]
     },
     "metadata": {},
     "output_type": "display_data"
    }
   ],
   "source": [
    "DCGAN.plot_generations(wg, mg; z=z)"
   ]
  },
  {
   "cell_type": "code",
   "execution_count": null,
   "metadata": {},
   "outputs": [],
   "source": []
  }
 ],
 "metadata": {
  "kernelspec": {
   "display_name": "Julia 1.0.0",
   "language": "julia",
   "name": "julia-1.0"
  },
  "language_info": {
   "file_extension": ".jl",
   "mimetype": "application/julia",
   "name": "julia",
   "version": "1.0.0"
  }
 },
 "nbformat": 4,
 "nbformat_minor": 2
}
