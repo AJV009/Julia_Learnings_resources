{
 "cells": [
  {
   "cell_type": "code",
   "execution_count": 1,
   "metadata": {},
   "outputs": [
    {
     "name": "stderr",
     "output_type": "stream",
     "text": [
      "┌ Warning: Pkg.installed() is deprecated\n",
      "└ @ Pkg D:\\buildbot\\worker\\package_win64\\build\\usr\\share\\julia\\stdlib\\v1.4\\Pkg\\src\\Pkg.jl:531\n"
     ]
    },
    {
     "ename": "Pkg.Types.PkgError",
     "evalue": "expected package `Statistics [10745b16]` to exist in the manifest (use `resolve` to populate the manifest)",
     "output_type": "error",
     "traceback": [
      "expected package `Statistics [10745b16]` to exist in the manifest (use `resolve` to populate the manifest)",
      "",
      "Stacktrace:",
      " [1] pkgerror(::String, ::Vararg{String,N} where N) at D:\\buildbot\\worker\\package_win64\\build\\usr\\share\\julia\\stdlib\\v1.4\\Pkg\\src\\Types.jl:53",
      " [2] package_info at D:\\buildbot\\worker\\package_win64\\build\\usr\\share\\julia\\stdlib\\v1.4\\Pkg\\src\\Operations.jl:1512 [inlined]",
      " [3] #9 at .\\none:0 [inlined]",
      " [4] iterate at .\\generator.jl:47 [inlined]",
      " [5] _all(::Base.var\"#239#241\", ::Base.Generator{Array{Pkg.Types.PackageSpec,1},Pkg.API.var\"#9#10\"{Pkg.Types.Context}}, ::Colon) at .\\reduce.jl:819",
      " [6] all at .\\reduce.jl:815 [inlined]",
      " [7] Dict(::Base.Generator{Array{Pkg.Types.PackageSpec,1},Pkg.API.var\"#9#10\"{Pkg.Types.Context}}) at .\\dict.jl:130",
      " [8] dependencies(::Pkg.Types.Context) at D:\\buildbot\\worker\\package_win64\\build\\usr\\share\\julia\\stdlib\\v1.4\\Pkg\\src\\API.jl:23",
      " [9] dependencies at D:\\buildbot\\worker\\package_win64\\build\\usr\\share\\julia\\stdlib\\v1.4\\Pkg\\src\\API.jl:20 [inlined]",
      " [10] installed() at D:\\buildbot\\worker\\package_win64\\build\\usr\\share\\julia\\stdlib\\v1.4\\Pkg\\src\\Pkg.jl:532",
      " [11] top-level scope at .\\In[1]:3"
     ]
    }
   ],
   "source": [
    "# Set display width, load packages, import symbols\n",
    "ENV[\"COLUMNS\"]=72\n",
    "using Pkg; for p in (\"Knet\",\"IterTools\"); haskey(Pkg.installed(),p) || Pkg.add(p); end\n",
    "using Knet, IterTools"
   ]
  },
  {
   "cell_type": "code",
   "execution_count": 8,
   "metadata": {},
   "outputs": [
    {
     "name": "stderr",
     "output_type": "stream",
     "text": [
      "\u001b[32m\u001b[1m  Installed\u001b[22m\u001b[39m CodeTracking ───────────────── v0.5.8\n"
     ]
    },
    {
     "name": "stdout",
     "output_type": "stream",
     "text": [
      "\u001b[?25l"
     ]
    },
    {
     "name": "stderr",
     "output_type": "stream",
     "text": [
      "\u001b[32m\u001b[1m  Installed\u001b[22m\u001b[39m Cthulhu ────────────────────── v1.0.0\n",
      "\u001b[32m\u001b[1m    Cloning\u001b[22m\u001b[39m [c5f51814-7f29-56b8-a69c-e4d8f6be1fde] CUDAdrv from https://github.com/JuliaGPU/CUDAdrv.jl.git\n"
     ]
    },
    {
     "name": "stdout",
     "output_type": "stream",
     "text": [
      "    \u001b[36m\u001b[1mFetching:\u001b[22m\u001b[39m\u001b[2K=>                                     ]  5.8 %\u001b[?25h"
     ]
    },
    {
     "ename": "Base.IOError",
     "evalue": "IOError: unlink: resource busy or locked (EBUSY)",
     "output_type": "error",
     "traceback": [
      "IOError: unlink: resource busy or locked (EBUSY)",
      "",
      "Stacktrace:",
      " [1] uv_error at .\\libuv.jl:97 [inlined]",
      " [2] unlink(::String) at .\\file.jl:885",
      " [3] rm(::String; force::Bool, recursive::Bool) at .\\file.jl:268",
      " [4] rm(::String; force::Bool, recursive::Bool) at .\\file.jl:278 (repeats 3 times)",
      " [5] clone(::Pkg.Types.Context, ::String, ::String; header::String, credentials::Nothing, kwargs::Base.Iterators.Pairs{Symbol,Bool,Tuple{Symbol},NamedTuple{(:isbare,),Tuple{Bool}}}) at D:\\buildbot\\worker\\package_win64\\build\\usr\\share\\julia\\stdlib\\v1.4\\Pkg\\src\\GitTools.jl:143",
      " [6] #ensure_clone#3 at D:\\buildbot\\worker\\package_win64\\build\\usr\\share\\julia\\stdlib\\v1.4\\Pkg\\src\\GitTools.jl:110 [inlined]",
      " [7] install_git(::Pkg.Types.Context, ::Base.UUID, ::String, ::Base.SHA1, ::Array{String,1}, ::VersionNumber, ::String) at D:\\buildbot\\worker\\package_win64\\build\\usr\\share\\julia\\stdlib\\v1.4\\Pkg\\src\\Operations.jl:555",
      " [8] download_source(::Pkg.Types.Context, ::Array{Pkg.Types.PackageSpec,1}, ::Dict{Base.UUID,Array{String,1}}; readonly::Bool) at D:\\buildbot\\worker\\package_win64\\build\\usr\\share\\julia\\stdlib\\v1.4\\Pkg\\src\\Operations.jl:714",
      " [9] #download_source#39 at D:\\buildbot\\worker\\package_win64\\build\\usr\\share\\julia\\stdlib\\v1.4\\Pkg\\src\\Operations.jl:633 [inlined]",
      " [10] download_source at D:\\buildbot\\worker\\package_win64\\build\\usr\\share\\julia\\stdlib\\v1.4\\Pkg\\src\\Operations.jl:631 [inlined]",
      " [11] up(::Pkg.Types.Context, ::Array{Pkg.Types.PackageSpec,1}, ::Pkg.Types.UpgradeLevel) at D:\\buildbot\\worker\\package_win64\\build\\usr\\share\\julia\\stdlib\\v1.4\\Pkg\\src\\Operations.jl:1168",
      " [12] up(::Pkg.Types.Context, ::Array{Pkg.Types.PackageSpec,1}; level::Pkg.Types.UpgradeLevel, mode::Pkg.Types.PackageMode, update_registry::Bool, kwargs::Base.Iterators.Pairs{Union{},Union{},Tuple{},NamedTuple{(),Tuple{}}}) at D:\\buildbot\\worker\\package_win64\\build\\usr\\share\\julia\\stdlib\\v1.4\\Pkg\\src\\API.jl:224",
      " [13] #up#43 at D:\\buildbot\\worker\\package_win64\\build\\usr\\share\\julia\\stdlib\\v1.4\\Pkg\\src\\API.jl:192 [inlined]",
      " [14] #resolve#52 at D:\\buildbot\\worker\\package_win64\\build\\usr\\share\\julia\\stdlib\\v1.4\\Pkg\\src\\API.jl:230 [inlined]",
      " [15] resolve at D:\\buildbot\\worker\\package_win64\\build\\usr\\share\\julia\\stdlib\\v1.4\\Pkg\\src\\API.jl:230 [inlined]",
      " [16] #resolve#51 at D:\\buildbot\\worker\\package_win64\\build\\usr\\share\\julia\\stdlib\\v1.4\\Pkg\\src\\API.jl:228 [inlined]",
      " [17] resolve() at D:\\buildbot\\worker\\package_win64\\build\\usr\\share\\julia\\stdlib\\v1.4\\Pkg\\src\\API.jl:228",
      " [18] top-level scope at In[8]:2"
     ]
    }
   ],
   "source": [
    "using Pkg\n",
    "Pkg.resolve()"
   ]
  },
  {
   "cell_type": "code",
   "execution_count": 2,
   "metadata": {},
   "outputs": [],
   "source": [
    "# Define convolutional layer:\n",
    "struct Conv; w; b; f; end\n",
    "(c::Conv)(x) = c.f.(pool(conv4(c.w, x) .+ c.b))\n",
    "Conv(w1,w2,cx,cy,f=relu) = Conv(param(w1,w2,cx,cy), param0(1,1,cy,1), f);"
   ]
  },
  {
   "cell_type": "code",
   "execution_count": 3,
   "metadata": {},
   "outputs": [],
   "source": [
    "# Define dense layer:\n",
    "struct Dense; w; b; f; end\n",
    "(d::Dense)(x) = d.f.(d.w * mat(x) .+ d.b)\n",
    "Dense(i::Int,o::Int,f=relu) = Dense(param(o,i), param0(o), f);"
   ]
  },
  {
   "cell_type": "code",
   "execution_count": 4,
   "metadata": {},
   "outputs": [],
   "source": [
    "# Define a chain of layers:\n",
    "struct Chain; layers; Chain(args...)=new(args); end\n",
    "(c::Chain)(x) = (for l in c.layers; x = l(x); end; x)\n",
    "(c::Chain)(x,y) = nll(c(x),y)"
   ]
  },
  {
   "cell_type": "code",
   "execution_count": 5,
   "metadata": {},
   "outputs": [
    {
     "ename": "UndefVarError",
     "evalue": "UndefVarError: Knet not defined",
     "output_type": "error",
     "traceback": [
      "UndefVarError: Knet not defined",
      "",
      "Stacktrace:",
      " [1] top-level scope at In[5]:1"
     ]
    }
   ],
   "source": [
    "# Load MNIST data\n",
    "include(Knet.dir(\"data\",\"mnist.jl\"))\n",
    "dtrn, dtst = mnistdata();"
   ]
  },
  {
   "cell_type": "code",
   "execution_count": 6,
   "metadata": {},
   "outputs": [
    {
     "ename": "UndefVarError",
     "evalue": "UndefVarError: relu not defined",
     "output_type": "error",
     "traceback": [
      "UndefVarError: relu not defined",
      "",
      "Stacktrace:",
      " [1] Conv(::Int64, ::Int64, ::Int64, ::Int64) at .\\In[2]:4",
      " [2] top-level scope at In[6]:1"
     ]
    }
   ],
   "source": [
    "# Train and test LeNet (about 30 secs on a gpu to reach 99% accuracy)\n",
    "LeNet = Chain(Conv(5,5,1,20), Conv(5,5,20,50), Dense(800,500), Dense(500,10,identity))\n",
    "progress!(adam(LeNet, ncycle(dtrn,10)))\n",
    "accuracy(LeNet, dtst)"
   ]
  },
  {
   "cell_type": "code",
   "execution_count": null,
   "metadata": {},
   "outputs": [],
   "source": []
  }
 ],
 "metadata": {
  "@webio": {
   "lastCommId": null,
   "lastKernelId": null
  },
  "kernelspec": {
   "display_name": "Julia 1.4.0",
   "language": "julia",
   "name": "julia-1.4"
  },
  "language_info": {
   "file_extension": ".jl",
   "mimetype": "application/julia",
   "name": "julia",
   "version": "1.4.0"
  }
 },
 "nbformat": 4,
 "nbformat_minor": 4
}
