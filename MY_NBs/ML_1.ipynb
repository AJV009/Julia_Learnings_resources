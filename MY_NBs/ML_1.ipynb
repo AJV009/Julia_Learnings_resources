{
 "cells": [
  {
   "cell_type": "code",
   "execution_count": 4,
   "metadata": {},
   "outputs": [],
   "source": [
    "# Julia Combines Python's convenience with C's performance\n",
    "# in other words combines the power of dynamic languages with performance of static languages\n",
    "# It's poised to do for technical computing what Node.js is doing for web development - getting disparate groups of programmers to code in the same \n",
    "# language. With Node.js, it was the front-end designers and the back-end developers. With Julia, it's the domain experts and the speed freaks.\n",
    "# That is a major accomplishments."
   ]
  },
  {
   "cell_type": "code",
   "execution_count": 7,
   "metadata": {
    "scrolled": true
   },
   "outputs": [
    {
     "name": "stderr",
     "output_type": "stream",
     "text": [
      "\u001b[32m\u001b[1m Activating\u001b[22m\u001b[39m environment at `C:\\Users\\XeonAJ\\.julia\\packages\\JuliaAcademyData\\1to3l\\courses\\Foundations of machine learning\\Project.toml`\n"
     ]
    }
   ],
   "source": [
    "# import Pkg\n",
    "# Pkg.add(Pkg.PackageSpec(url=\"https://github.com/JuliaComputing/JuliaAcademyData.jl\"))\n",
    "using JuliaAcademyData\n",
    "activate(\"Foundations of machine learning\")"
   ]
  },
  {
   "cell_type": "code",
   "execution_count": 8,
   "metadata": {},
   "outputs": [
    {
     "name": "stderr",
     "output_type": "stream",
     "text": [
      "┌ Info: Precompiling ImageMagick [6218d12a-5da1-5696-b52f-db25d2ecc6d1]\n",
      "└ @ Base loading.jl:1260\n"
     ]
    },
    {
     "data": {
      "image/png": "[encoded data removed]",
      "text/plain": [
       "100×100 Array{RGB{N0f8},2} with eltype RGB{Normed{UInt8,8}}:\n",
       " RGB{N0f8}(1.0,1.0,1.0)  RGB{N0f8}(1.0,1.0,1.0)  …  RGB{N0f8}(1.0,1.0,1.0)\n",
       " RGB{N0f8}(1.0,1.0,1.0)  RGB{N0f8}(1.0,1.0,1.0)     RGB{N0f8}(1.0,1.0,1.0)\n",
       " RGB{N0f8}(1.0,1.0,1.0)  RGB{N0f8}(1.0,1.0,1.0)     RGB{N0f8}(1.0,1.0,1.0)\n",
       " RGB{N0f8}(1.0,1.0,1.0)  RGB{N0f8}(1.0,1.0,1.0)     RGB{N0f8}(1.0,1.0,1.0)\n",
       " RGB{N0f8}(1.0,1.0,1.0)  RGB{N0f8}(1.0,1.0,1.0)     RGB{N0f8}(1.0,1.0,1.0)\n",
       " RGB{N0f8}(1.0,1.0,1.0)  RGB{N0f8}(1.0,1.0,1.0)  …  RGB{N0f8}(1.0,1.0,1.0)\n",
       " RGB{N0f8}(1.0,1.0,1.0)  RGB{N0f8}(1.0,1.0,1.0)     RGB{N0f8}(1.0,1.0,1.0)\n",
       " RGB{N0f8}(1.0,1.0,1.0)  RGB{N0f8}(1.0,1.0,1.0)     RGB{N0f8}(1.0,1.0,1.0)\n",
       " RGB{N0f8}(1.0,1.0,1.0)  RGB{N0f8}(1.0,1.0,1.0)     RGB{N0f8}(1.0,1.0,1.0)\n",
       " RGB{N0f8}(1.0,1.0,1.0)  RGB{N0f8}(1.0,1.0,1.0)     RGB{N0f8}(1.0,1.0,1.0)\n",
       " RGB{N0f8}(1.0,1.0,1.0)  RGB{N0f8}(1.0,1.0,1.0)  …  RGB{N0f8}(1.0,1.0,1.0)\n",
       " RGB{N0f8}(1.0,1.0,1.0)  RGB{N0f8}(1.0,1.0,1.0)     RGB{N0f8}(1.0,1.0,1.0)\n",
       " RGB{N0f8}(1.0,1.0,1.0)  RGB{N0f8}(1.0,1.0,1.0)     RGB{N0f8}(1.0,1.0,1.0)\n",
       " ⋮                                               ⋱  \n",
       " RGB{N0f8}(1.0,1.0,1.0)  RGB{N0f8}(1.0,1.0,1.0)     RGB{N0f8}(1.0,1.0,1.0)\n",
       " RGB{N0f8}(1.0,1.0,1.0)  RGB{N0f8}(1.0,1.0,1.0)     RGB{N0f8}(1.0,1.0,1.0)\n",
       " RGB{N0f8}(1.0,1.0,1.0)  RGB{N0f8}(1.0,1.0,1.0)  …  RGB{N0f8}(1.0,1.0,1.0)\n",
       " RGB{N0f8}(1.0,1.0,1.0)  RGB{N0f8}(1.0,1.0,1.0)     RGB{N0f8}(1.0,1.0,1.0)\n",
       " RGB{N0f8}(1.0,1.0,1.0)  RGB{N0f8}(1.0,1.0,1.0)     RGB{N0f8}(1.0,1.0,1.0)\n",
       " RGB{N0f8}(1.0,1.0,1.0)  RGB{N0f8}(1.0,1.0,1.0)     RGB{N0f8}(1.0,1.0,1.0)\n",
       " RGB{N0f8}(1.0,1.0,1.0)  RGB{N0f8}(1.0,1.0,1.0)     RGB{N0f8}(1.0,1.0,1.0)\n",
       " RGB{N0f8}(1.0,1.0,1.0)  RGB{N0f8}(1.0,1.0,1.0)  …  RGB{N0f8}(1.0,1.0,1.0)\n",
       " RGB{N0f8}(1.0,1.0,1.0)  RGB{N0f8}(1.0,1.0,1.0)     RGB{N0f8}(1.0,1.0,1.0)\n",
       " RGB{N0f8}(1.0,1.0,1.0)  RGB{N0f8}(1.0,1.0,1.0)     RGB{N0f8}(1.0,1.0,1.0)\n",
       " RGB{N0f8}(1.0,1.0,1.0)  RGB{N0f8}(1.0,1.0,1.0)     RGB{N0f8}(1.0,1.0,1.0)\n",
       " RGB{N0f8}(1.0,1.0,1.0)  RGB{N0f8}(1.0,1.0,1.0)     RGB{N0f8}(1.0,1.0,1.0)"
      ]
     },
     "execution_count": 8,
     "metadata": {},
     "output_type": "execute_result"
    }
   ],
   "source": [
    "using Images\n",
    "\n",
    "apple = load(datapath(\"data/10_100.jpg\"))\n",
    "banana = load(datapath(\"data/104_100.jpg\"))"
   ]
  },
  {
   "cell_type": "code",
   "execution_count": 11,
   "metadata": {},
   "outputs": [
    {
     "name": "stdout",
     "output_type": "stream",
     "text": [
      "Array{RGB{Normed{UInt8,8}},2}\n",
      "(100, 100)\n",
      "Array{Int64,2}\n",
      "(2, 3)\n",
      "[1 2 3; 4 5 6]\n"
     ]
    }
   ],
   "source": [
    "println(typeof(apple))\n",
    "println(size(apple))\n",
    "a = [1 2 3;4 5 6]\n",
    "println(typeof(a))\n",
    "println(size(a))\n",
    "println(a)"
   ]
  },
  {
   "cell_type": "code",
   "execution_count": 12,
   "metadata": {},
   "outputs": [
    {
     "data": {
      "image/png": "[encoded data removed]",
      "text/plain": [
       "100×100 Array{RGB{N0f8},2} with eltype RGB{Normed{UInt8,8}}:\n",
       " RGB{N0f8}(0.996,1.0,0.984)    …  RGB{N0f8}(1.0,1.0,1.0)\n",
       " RGB{N0f8}(0.984,1.0,0.988)       RGB{N0f8}(1.0,1.0,1.0)\n",
       " RGB{N0f8}(0.973,1.0,0.988)       RGB{N0f8}(1.0,1.0,1.0)\n",
       " RGB{N0f8}(0.965,1.0,0.992)       RGB{N0f8}(1.0,1.0,1.0)\n",
       " RGB{N0f8}(0.965,1.0,1.0)         RGB{N0f8}(1.0,1.0,1.0)\n",
       " RGB{N0f8}(0.973,1.0,1.0)      …  RGB{N0f8}(1.0,1.0,1.0)\n",
       " RGB{N0f8}(0.992,0.996,1.0)       RGB{N0f8}(1.0,1.0,1.0)\n",
       " RGB{N0f8}(1.0,0.992,1.0)         RGB{N0f8}(1.0,1.0,1.0)\n",
       " RGB{N0f8}(1.0,0.98,1.0)          RGB{N0f8}(1.0,1.0,1.0)\n",
       " RGB{N0f8}(1.0,0.984,1.0)         RGB{N0f8}(1.0,1.0,1.0)\n",
       " RGB{N0f8}(1.0,0.988,1.0)      …  RGB{N0f8}(1.0,1.0,1.0)\n",
       " RGB{N0f8}(1.0,0.996,1.0)         RGB{N0f8}(1.0,1.0,1.0)\n",
       " RGB{N0f8}(1.0,1.0,1.0)           RGB{N0f8}(1.0,1.0,1.0)\n",
       " ⋮                             ⋱  \n",
       " RGB{N0f8}(0.992,1.0,0.988)       RGB{N0f8}(1.0,1.0,1.0)\n",
       " RGB{N0f8}(0.984,1.0,0.988)       RGB{N0f8}(1.0,1.0,1.0)\n",
       " RGB{N0f8}(0.992,1.0,0.996)    …  RGB{N0f8}(1.0,1.0,1.0)\n",
       " RGB{N0f8}(0.996,1.0,1.0)         RGB{N0f8}(1.0,1.0,1.0)\n",
       " RGB{N0f8}(0.996,0.996,0.996)     RGB{N0f8}(1.0,1.0,1.0)\n",
       " RGB{N0f8}(1.0,0.992,0.996)       RGB{N0f8}(1.0,1.0,1.0)\n",
       " RGB{N0f8}(1.0,0.992,0.996)       RGB{N0f8}(1.0,1.0,1.0)\n",
       " RGB{N0f8}(1.0,0.992,0.996)    …  RGB{N0f8}(1.0,1.0,1.0)\n",
       " RGB{N0f8}(1.0,1.0,1.0)           RGB{N0f8}(1.0,1.0,1.0)\n",
       " RGB{N0f8}(1.0,1.0,1.0)           RGB{N0f8}(1.0,1.0,1.0)\n",
       " RGB{N0f8}(1.0,1.0,1.0)           RGB{N0f8}(1.0,1.0,1.0)\n",
       " RGB{N0f8}(1.0,1.0,1.0)           RGB{N0f8}(1.0,1.0,1.0)"
      ]
     },
     "execution_count": 12,
     "metadata": {},
     "output_type": "execute_result"
    }
   ],
   "source": [
    "apple"
   ]
  },
  {
   "cell_type": "code",
   "execution_count": 14,
   "metadata": {},
   "outputs": [
    {
     "name": "stdout",
     "output_type": "stream",
     "text": [
      "RGB{Normed{UInt8,8}}\n",
      "  r: Normed{UInt8,8}\n",
      "    i: UInt8 0x85\n",
      "  g: Normed{UInt8,8}\n",
      "    i: UInt8 0x19\n",
      "  b: Normed{UInt8,8}\n",
      "    i: UInt8 0x0f\n"
     ]
    }
   ],
   "source": [
    "dump(apple[40,60])"
   ]
  },
  {
   "cell_type": "code",
   "execution_count": 15,
   "metadata": {},
   "outputs": [
    {
     "data": {
      "image/png": "[encoded data removed]",
      "text/plain": [
       "3×3 Array{RGB{N0f8},2} with eltype RGB{Normed{UInt8,8}}:\n",
       " RGB{N0f8}(0.639,0.129,0.122)  …  RGB{N0f8}(0.631,0.133,0.11)\n",
       " RGB{N0f8}(0.651,0.133,0.118)     RGB{N0f8}(0.655,0.149,0.129)\n",
       " RGB{N0f8}(0.659,0.141,0.125)     RGB{N0f8}(0.675,0.157,0.141)"
      ]
     },
     "execution_count": 15,
     "metadata": {},
     "output_type": "execute_result"
    }
   ],
   "source": [
    "apple[18:20,29:31]"
   ]
  },
  {
   "cell_type": "code",
   "execution_count": 17,
   "metadata": {},
   "outputs": [
    {
     "data": {
      "text/plain": [
       "0.5215686274509804"
      ]
     },
     "execution_count": 17,
     "metadata": {},
     "output_type": "execute_result"
    }
   ],
   "source": [
    "Float64(red(apple[40,60]))"
   ]
  },
  {
   "cell_type": "code",
   "execution_count": 18,
   "metadata": {},
   "outputs": [],
   "source": [
    "using Statistics"
   ]
  },
  {
   "cell_type": "code",
   "execution_count": 20,
   "metadata": {},
   "outputs": [
    {
     "data": {
      "text/plain": [
       "3×2 Array{Float32,2}:\n",
       " 0.570278  0.903998\n",
       " 0.338118  0.880692\n",
       " 0.322406  0.799643"
      ]
     },
     "execution_count": 20,
     "metadata": {},
     "output_type": "execute_result"
    }
   ],
   "source": [
    "[ mean(float.(c.(img))) for c = [red,green,blue], img = [apple,banana] ]"
   ]
  },
  {
   "cell_type": "code",
   "execution_count": 21,
   "metadata": {},
   "outputs": [
    {
     "name": "stderr",
     "output_type": "stream",
     "text": [
      "┌ Info: Precompiling Plots [91a5bcdd-55d7-5caf-9e0b-520d859cae80]\n",
      "└ @ Base loading.jl:1260\n"
     ]
    }
   ],
   "source": [
    "using Plots"
   ]
  },
  {
   "cell_type": "code",
   "execution_count": 31,
   "metadata": {},
   "outputs": [
    {
     "data": {
      "image/svg+xml": [
       "<?xml version=\"1.0\" encoding=\"utf-8\"?>\n",
       "<svg xmlns=\"http://www.w3.org/2000/svg\" xmlns:xlink=\"http://www.w3.org/1999/xlink\" width=\"600\" height=\"400\" viewBox=\"0 0 2400 1600\">\n",
       "<defs>\n",
       "  <clipPath id=\"clip3700\">\n",
       "    <rect x=\"0\" y=\"0\" width=\"2400\" height=\"1600\"/>\n",
       "  </clipPath>\n",
       "</defs>\n",
       "<path clip-path=\"url(#clip3700)\" d=\"\n",
       "M0 1600 L2400 1600 L2400 0 L0 0  Z\n",
       "  \" fill=\"#ffffff\" fill-rule=\"evenodd\" fill-opacity=\"1\"/>\n",
       "<defs>\n",
       "  <clipPath id=\"clip3701\">\n",
       "    <rect x=\"480\" y=\"0\" width=\"1681\" height=\"1600\"/>\n",
       "  </clipPath>\n",
       "</defs>\n",
       "<path clip-path=\"url(#clip3700)\" d=\"\n",
       "M140.517 1487.47 L2352.76 1487.47 L2352.76 47.2441 L140.517 47.2441  Z\n",
       "  \" fill=\"#ffffff\" fill-rule=\"evenodd\" fill-opacity=\"1\"/>\n",
       "<defs>\n",
       "  <clipPath id=\"clip3702\">\n",
       "    <rect x=\"140\" y=\"47\" width=\"2213\" height=\"1441\"/>\n",
       "  </clipPath>\n",
       "</defs>\n",
       "<polyline clip-path=\"url(#clip3702)\" style=\"stroke:#000000; stroke-width:2; stroke-opacity:0.1; fill:none\" points=\"\n",
       "  262.194,1487.47 262.194,47.2441 \n",
       "  \"/>\n",
       "<polyline clip-path=\"url(#clip3702)\" style=\"stroke:#000000; stroke-width:2; stroke-opacity:0.1; fill:none\" points=\"\n",
       "  730.976,1487.47 730.976,47.2441 \n",
       "  \"/>\n",
       "<polyline clip-path=\"url(#clip3702)\" style=\"stroke:#000000; stroke-width:2; stroke-opacity:0.1; fill:none\" points=\"\n",
       "  1199.76,1487.47 1199.76,47.2441 \n",
       "  \"/>\n",
       "<polyline clip-path=\"url(#clip3702)\" style=\"stroke:#000000; stroke-width:2; stroke-opacity:0.1; fill:none\" points=\"\n",
       "  1668.54,1487.47 1668.54,47.2441 \n",
       "  \"/>\n",
       "<polyline clip-path=\"url(#clip3702)\" style=\"stroke:#000000; stroke-width:2; stroke-opacity:0.1; fill:none\" points=\"\n",
       "  2137.32,1487.47 2137.32,47.2441 \n",
       "  \"/>\n",
       "<polyline clip-path=\"url(#clip3702)\" style=\"stroke:#000000; stroke-width:2; stroke-opacity:0.1; fill:none\" points=\"\n",
       "  140.517,1446.71 2352.76,1446.71 \n",
       "  \"/>\n",
       "<polyline clip-path=\"url(#clip3702)\" style=\"stroke:#000000; stroke-width:2; stroke-opacity:0.1; fill:none\" points=\"\n",
       "  140.517,1244.1 2352.76,1244.1 \n",
       "  \"/>\n",
       "<polyline clip-path=\"url(#clip3702)\" style=\"stroke:#000000; stroke-width:2; stroke-opacity:0.1; fill:none\" points=\"\n",
       "  140.517,1041.49 2352.76,1041.49 \n",
       "  \"/>\n",
       "<polyline clip-path=\"url(#clip3702)\" style=\"stroke:#000000; stroke-width:2; stroke-opacity:0.1; fill:none\" points=\"\n",
       "  140.517,838.881 2352.76,838.881 \n",
       "  \"/>\n",
       "<polyline clip-path=\"url(#clip3702)\" style=\"stroke:#000000; stroke-width:2; stroke-opacity:0.1; fill:none\" points=\"\n",
       "  140.517,636.27 2352.76,636.27 \n",
       "  \"/>\n",
       "<polyline clip-path=\"url(#clip3702)\" style=\"stroke:#000000; stroke-width:2; stroke-opacity:0.1; fill:none\" points=\"\n",
       "  140.517,433.659 2352.76,433.659 \n",
       "  \"/>\n",
       "<polyline clip-path=\"url(#clip3702)\" style=\"stroke:#000000; stroke-width:2; stroke-opacity:0.1; fill:none\" points=\"\n",
       "  140.517,231.049 2352.76,231.049 \n",
       "  \"/>\n",
       "<polyline clip-path=\"url(#clip3700)\" style=\"stroke:#000000; stroke-width:4; stroke-opacity:1; fill:none\" points=\"\n",
       "  140.517,1487.47 2352.76,1487.47 \n",
       "  \"/>\n",
       "<polyline clip-path=\"url(#clip3700)\" style=\"stroke:#000000; stroke-width:4; stroke-opacity:1; fill:none\" points=\"\n",
       "  140.517,1487.47 140.517,47.2441 \n",
       "  \"/>\n",
       "<polyline clip-path=\"url(#clip3700)\" style=\"stroke:#000000; stroke-width:4; stroke-opacity:1; fill:none\" points=\"\n",
       "  262.194,1487.47 262.194,1470.19 \n",
       "  \"/>\n",
       "<polyline clip-path=\"url(#clip3700)\" style=\"stroke:#000000; stroke-width:4; stroke-opacity:1; fill:none\" points=\"\n",
       "  730.976,1487.47 730.976,1470.19 \n",
       "  \"/>\n",
       "<polyline clip-path=\"url(#clip3700)\" style=\"stroke:#000000; stroke-width:4; stroke-opacity:1; fill:none\" points=\"\n",
       "  1199.76,1487.47 1199.76,1470.19 \n",
       "  \"/>\n",
       "<polyline clip-path=\"url(#clip3700)\" style=\"stroke:#000000; stroke-width:4; stroke-opacity:1; fill:none\" points=\"\n",
       "  1668.54,1487.47 1668.54,1470.19 \n",
       "  \"/>\n",
       "<polyline clip-path=\"url(#clip3700)\" style=\"stroke:#000000; stroke-width:4; stroke-opacity:1; fill:none\" points=\"\n",
       "  2137.32,1487.47 2137.32,1470.19 \n",
       "  \"/>\n",
       "<polyline clip-path=\"url(#clip3700)\" style=\"stroke:#000000; stroke-width:4; stroke-opacity:1; fill:none\" points=\"\n",
       "  140.517,1446.71 167.064,1446.71 \n",
       "  \"/>\n",
       "<polyline clip-path=\"url(#clip3700)\" style=\"stroke:#000000; stroke-width:4; stroke-opacity:1; fill:none\" points=\"\n",
       "  140.517,1244.1 167.064,1244.1 \n",
       "  \"/>\n",
       "<polyline clip-path=\"url(#clip3700)\" style=\"stroke:#000000; stroke-width:4; stroke-opacity:1; fill:none\" points=\"\n",
       "  140.517,1041.49 167.064,1041.49 \n",
       "  \"/>\n",
       "<polyline clip-path=\"url(#clip3700)\" style=\"stroke:#000000; stroke-width:4; stroke-opacity:1; fill:none\" points=\"\n",
       "  140.517,838.881 167.064,838.881 \n",
       "  \"/>\n",
       "<polyline clip-path=\"url(#clip3700)\" style=\"stroke:#000000; stroke-width:4; stroke-opacity:1; fill:none\" points=\"\n",
       "  140.517,636.27 167.064,636.27 \n",
       "  \"/>\n",
       "<polyline clip-path=\"url(#clip3700)\" style=\"stroke:#000000; stroke-width:4; stroke-opacity:1; fill:none\" points=\"\n",
       "  140.517,433.659 167.064,433.659 \n",
       "  \"/>\n",
       "<polyline clip-path=\"url(#clip3700)\" style=\"stroke:#000000; stroke-width:4; stroke-opacity:1; fill:none\" points=\"\n",
       "  140.517,231.049 167.064,231.049 \n",
       "  \"/>\n",
       "<g clip-path=\"url(#clip3700)\">\n",
       "<text style=\"fill:#000000; fill-opacity:1; font-family:Arial,Helvetica Neue,Helvetica,sans-serif; font-size:48px; text-anchor:middle;\" transform=\"rotate(0, 262.194, 1541.47)\" x=\"262.194\" y=\"1541.47\">0.00</text>\n",
       "</g>\n",
       "<g clip-path=\"url(#clip3700)\">\n",
       "<text style=\"fill:#000000; fill-opacity:1; font-family:Arial,Helvetica Neue,Helvetica,sans-serif; font-size:48px; text-anchor:middle;\" transform=\"rotate(0, 730.976, 1541.47)\" x=\"730.976\" y=\"1541.47\">0.25</text>\n",
       "</g>\n",
       "<g clip-path=\"url(#clip3700)\">\n",
       "<text style=\"fill:#000000; fill-opacity:1; font-family:Arial,Helvetica Neue,Helvetica,sans-serif; font-size:48px; text-anchor:middle;\" transform=\"rotate(0, 1199.76, 1541.47)\" x=\"1199.76\" y=\"1541.47\">0.50</text>\n",
       "</g>\n",
       "<g clip-path=\"url(#clip3700)\">\n",
       "<text style=\"fill:#000000; fill-opacity:1; font-family:Arial,Helvetica Neue,Helvetica,sans-serif; font-size:48px; text-anchor:middle;\" transform=\"rotate(0, 1668.54, 1541.47)\" x=\"1668.54\" y=\"1541.47\">0.75</text>\n",
       "</g>\n",
       "<g clip-path=\"url(#clip3700)\">\n",
       "<text style=\"fill:#000000; fill-opacity:1; font-family:Arial,Helvetica Neue,Helvetica,sans-serif; font-size:48px; text-anchor:middle;\" transform=\"rotate(0, 2137.32, 1541.47)\" x=\"2137.32\" y=\"1541.47\">1.00</text>\n",
       "</g>\n",
       "<g clip-path=\"url(#clip3700)\">\n",
       "<text style=\"fill:#000000; fill-opacity:1; font-family:Arial,Helvetica Neue,Helvetica,sans-serif; font-size:48px; text-anchor:end;\" transform=\"rotate(0, 116.517, 1464.21)\" x=\"116.517\" y=\"1464.21\">0</text>\n",
       "</g>\n",
       "<g clip-path=\"url(#clip3700)\">\n",
       "<text style=\"fill:#000000; fill-opacity:1; font-family:Arial,Helvetica Neue,Helvetica,sans-serif; font-size:48px; text-anchor:end;\" transform=\"rotate(0, 116.517, 1261.6)\" x=\"116.517\" y=\"1261.6\">2</text>\n",
       "</g>\n",
       "<g clip-path=\"url(#clip3700)\">\n",
       "<text style=\"fill:#000000; fill-opacity:1; font-family:Arial,Helvetica Neue,Helvetica,sans-serif; font-size:48px; text-anchor:end;\" transform=\"rotate(0, 116.517, 1058.99)\" x=\"116.517\" y=\"1058.99\">4</text>\n",
       "</g>\n",
       "<g clip-path=\"url(#clip3700)\">\n",
       "<text style=\"fill:#000000; fill-opacity:1; font-family:Arial,Helvetica Neue,Helvetica,sans-serif; font-size:48px; text-anchor:end;\" transform=\"rotate(0, 116.517, 856.381)\" x=\"116.517\" y=\"856.381\">6</text>\n",
       "</g>\n",
       "<g clip-path=\"url(#clip3700)\">\n",
       "<text style=\"fill:#000000; fill-opacity:1; font-family:Arial,Helvetica Neue,Helvetica,sans-serif; font-size:48px; text-anchor:end;\" transform=\"rotate(0, 116.517, 653.77)\" x=\"116.517\" y=\"653.77\">8</text>\n",
       "</g>\n",
       "<g clip-path=\"url(#clip3700)\">\n",
       "<text style=\"fill:#000000; fill-opacity:1; font-family:Arial,Helvetica Neue,Helvetica,sans-serif; font-size:48px; text-anchor:end;\" transform=\"rotate(0, 116.517, 451.159)\" x=\"116.517\" y=\"451.159\">10</text>\n",
       "</g>\n",
       "<g clip-path=\"url(#clip3700)\">\n",
       "<text style=\"fill:#000000; fill-opacity:1; font-family:Arial,Helvetica Neue,Helvetica,sans-serif; font-size:48px; text-anchor:end;\" transform=\"rotate(0, 116.517, 248.549)\" x=\"116.517\" y=\"248.549\">12</text>\n",
       "</g>\n",
       "<path clip-path=\"url(#clip3702)\" d=\"\n",
       "M262.194 940.389 L262.194 1446.71 L355.95 1446.71 L355.95 940.389 L262.194 940.389 L262.194 940.389  Z\n",
       "  \" fill=\"#ff0000\" fill-rule=\"evenodd\" fill-opacity=\"1\"/>\n",
       "<polyline clip-path=\"url(#clip3702)\" style=\"stroke:#000000; stroke-width:4; stroke-opacity:1; fill:none\" points=\"\n",
       "  262.194,940.389 262.194,1446.71 355.95,1446.71 355.95,940.389 262.194,940.389 \n",
       "  \"/>\n",
       "<path clip-path=\"url(#clip3702)\" d=\"\n",
       "M355.95 1063.58 L355.95 1446.71 L449.707 1446.71 L449.707 1063.58 L355.95 1063.58 L355.95 1063.58  Z\n",
       "  \" fill=\"#ff0000\" fill-rule=\"evenodd\" fill-opacity=\"1\"/>\n",
       "<polyline clip-path=\"url(#clip3702)\" style=\"stroke:#000000; stroke-width:4; stroke-opacity:1; fill:none\" points=\"\n",
       "  355.95,1063.58 355.95,1446.71 449.707,1446.71 449.707,1063.58 355.95,1063.58 \n",
       "  \"/>\n",
       "<path clip-path=\"url(#clip3702)\" d=\"\n",
       "M449.707 1226.68 L449.707 1446.71 L543.463 1446.71 L543.463 1226.68 L449.707 1226.68 L449.707 1226.68  Z\n",
       "  \" fill=\"#ff0000\" fill-rule=\"evenodd\" fill-opacity=\"1\"/>\n",
       "<polyline clip-path=\"url(#clip3702)\" style=\"stroke:#000000; stroke-width:4; stroke-opacity:1; fill:none\" points=\"\n",
       "  449.707,1226.68 449.707,1446.71 543.463,1446.71 543.463,1226.68 449.707,1226.68 \n",
       "  \"/>\n",
       "<path clip-path=\"url(#clip3702)\" d=\"\n",
       "M543.463 1318.26 L543.463 1446.71 L637.22 1446.71 L637.22 1318.26 L543.463 1318.26 L543.463 1318.26  Z\n",
       "  \" fill=\"#ff0000\" fill-rule=\"evenodd\" fill-opacity=\"1\"/>\n",
       "<polyline clip-path=\"url(#clip3702)\" style=\"stroke:#000000; stroke-width:4; stroke-opacity:1; fill:none\" points=\"\n",
       "  543.463,1318.26 543.463,1446.71 637.22,1446.71 637.22,1318.26 543.463,1318.26 \n",
       "  \"/>\n",
       "<path clip-path=\"url(#clip3702)\" d=\"\n",
       "M637.22 1356.75 L637.22 1446.71 L730.976 1446.71 L730.976 1356.75 L637.22 1356.75 L637.22 1356.75  Z\n",
       "  \" fill=\"#ff0000\" fill-rule=\"evenodd\" fill-opacity=\"1\"/>\n",
       "<polyline clip-path=\"url(#clip3702)\" style=\"stroke:#000000; stroke-width:4; stroke-opacity:1; fill:none\" points=\"\n",
       "  637.22,1356.75 637.22,1446.71 730.976,1446.71 730.976,1356.75 637.22,1356.75 \n",
       "  \"/>\n",
       "<path clip-path=\"url(#clip3702)\" d=\"\n",
       "M730.976 1388.36 L730.976 1446.71 L824.732 1446.71 L824.732 1388.36 L730.976 1388.36 L730.976 1388.36  Z\n",
       "  \" fill=\"#ff0000\" fill-rule=\"evenodd\" fill-opacity=\"1\"/>\n",
       "<polyline clip-path=\"url(#clip3702)\" style=\"stroke:#000000; stroke-width:4; stroke-opacity:1; fill:none\" points=\"\n",
       "  730.976,1388.36 730.976,1446.71 824.732,1446.71 824.732,1388.36 730.976,1388.36 \n",
       "  \"/>\n",
       "<path clip-path=\"url(#clip3702)\" d=\"\n",
       "M824.732 1408.01 L824.732 1446.71 L918.489 1446.71 L918.489 1408.01 L824.732 1408.01 L824.732 1408.01  Z\n",
       "  \" fill=\"#ff0000\" fill-rule=\"evenodd\" fill-opacity=\"1\"/>\n",
       "<polyline clip-path=\"url(#clip3702)\" style=\"stroke:#000000; stroke-width:4; stroke-opacity:1; fill:none\" points=\"\n",
       "  824.732,1408.01 824.732,1446.71 918.489,1446.71 918.489,1408.01 824.732,1408.01 \n",
       "  \"/>\n",
       "<path clip-path=\"url(#clip3702)\" d=\"\n",
       "M918.489 1424.43 L918.489 1446.71 L1012.25 1446.71 L1012.25 1424.43 L918.489 1424.43 L918.489 1424.43  Z\n",
       "  \" fill=\"#ff0000\" fill-rule=\"evenodd\" fill-opacity=\"1\"/>\n",
       "<polyline clip-path=\"url(#clip3702)\" style=\"stroke:#000000; stroke-width:4; stroke-opacity:1; fill:none\" points=\"\n",
       "  918.489,1424.43 918.489,1446.71 1012.25,1446.71 1012.25,1424.43 918.489,1424.43 \n",
       "  \"/>\n",
       "<path clip-path=\"url(#clip3702)\" d=\"\n",
       "M1012.25 1430.91 L1012.25 1446.71 L1106 1446.71 L1106 1430.91 L1012.25 1430.91 L1012.25 1430.91  Z\n",
       "  \" fill=\"#ff0000\" fill-rule=\"evenodd\" fill-opacity=\"1\"/>\n",
       "<polyline clip-path=\"url(#clip3702)\" style=\"stroke:#000000; stroke-width:4; stroke-opacity:1; fill:none\" points=\"\n",
       "  1012.25,1430.91 1012.25,1446.71 1106,1446.71 1106,1430.91 1012.25,1430.91 \n",
       "  \"/>\n",
       "<path clip-path=\"url(#clip3702)\" d=\"\n",
       "M1106 1432.53 L1106 1446.71 L1199.76 1446.71 L1199.76 1432.53 L1106 1432.53 L1106 1432.53  Z\n",
       "  \" fill=\"#ff0000\" fill-rule=\"evenodd\" fill-opacity=\"1\"/>\n",
       "<polyline clip-path=\"url(#clip3702)\" style=\"stroke:#000000; stroke-width:4; stroke-opacity:1; fill:none\" points=\"\n",
       "  1106,1432.53 1106,1446.71 1199.76,1446.71 1199.76,1432.53 1106,1432.53 \n",
       "  \"/>\n",
       "<path clip-path=\"url(#clip3702)\" d=\"\n",
       "M1199.76 1433.54 L1199.76 1446.71 L1293.51 1446.71 L1293.51 1433.54 L1199.76 1433.54 L1199.76 1433.54  Z\n",
       "  \" fill=\"#ff0000\" fill-rule=\"evenodd\" fill-opacity=\"1\"/>\n",
       "<polyline clip-path=\"url(#clip3702)\" style=\"stroke:#000000; stroke-width:4; stroke-opacity:1; fill:none\" points=\"\n",
       "  1199.76,1433.54 1199.76,1446.71 1293.51,1446.71 1293.51,1433.54 1199.76,1433.54 \n",
       "  \"/>\n",
       "<path clip-path=\"url(#clip3702)\" d=\"\n",
       "M1293.51 1434.15 L1293.51 1446.71 L1387.27 1446.71 L1387.27 1434.15 L1293.51 1434.15 L1293.51 1434.15  Z\n",
       "  \" fill=\"#ff0000\" fill-rule=\"evenodd\" fill-opacity=\"1\"/>\n",
       "<polyline clip-path=\"url(#clip3702)\" style=\"stroke:#000000; stroke-width:4; stroke-opacity:1; fill:none\" points=\"\n",
       "  1293.51,1434.15 1293.51,1446.71 1387.27,1446.71 1387.27,1434.15 1293.51,1434.15 \n",
       "  \"/>\n",
       "<path clip-path=\"url(#clip3702)\" d=\"\n",
       "M1387.27 1433.95 L1387.27 1446.71 L1481.03 1446.71 L1481.03 1433.95 L1387.27 1433.95 L1387.27 1433.95  Z\n",
       "  \" fill=\"#ff0000\" fill-rule=\"evenodd\" fill-opacity=\"1\"/>\n",
       "<polyline clip-path=\"url(#clip3702)\" style=\"stroke:#000000; stroke-width:4; stroke-opacity:1; fill:none\" points=\"\n",
       "  1387.27,1433.95 1387.27,1446.71 1481.03,1446.71 1481.03,1433.95 1387.27,1433.95 \n",
       "  \"/>\n",
       "<path clip-path=\"url(#clip3702)\" d=\"\n",
       "M1481.03 1441.65 L1481.03 1446.71 L1574.78 1446.71 L1574.78 1441.65 L1481.03 1441.65 L1481.03 1441.65  Z\n",
       "  \" fill=\"#ff0000\" fill-rule=\"evenodd\" fill-opacity=\"1\"/>\n",
       "<polyline clip-path=\"url(#clip3702)\" style=\"stroke:#000000; stroke-width:4; stroke-opacity:1; fill:none\" points=\"\n",
       "  1481.03,1441.65 1481.03,1446.71 1574.78,1446.71 1574.78,1441.65 1481.03,1441.65 \n",
       "  \"/>\n",
       "<path clip-path=\"url(#clip3702)\" d=\"\n",
       "M1574.78 1442.26 L1574.78 1446.71 L1668.54 1446.71 L1668.54 1442.26 L1574.78 1442.26 L1574.78 1442.26  Z\n",
       "  \" fill=\"#ff0000\" fill-rule=\"evenodd\" fill-opacity=\"1\"/>\n",
       "<polyline clip-path=\"url(#clip3702)\" style=\"stroke:#000000; stroke-width:4; stroke-opacity:1; fill:none\" points=\"\n",
       "  1574.78,1442.26 1574.78,1446.71 1668.54,1446.71 1668.54,1442.26 1574.78,1442.26 \n",
       "  \"/>\n",
       "<path clip-path=\"url(#clip3702)\" d=\"\n",
       "M1668.54 1442.05 L1668.54 1446.71 L1762.3 1446.71 L1762.3 1442.05 L1668.54 1442.05 L1668.54 1442.05  Z\n",
       "  \" fill=\"#ff0000\" fill-rule=\"evenodd\" fill-opacity=\"1\"/>\n",
       "<polyline clip-path=\"url(#clip3702)\" style=\"stroke:#000000; stroke-width:4; stroke-opacity:1; fill:none\" points=\"\n",
       "  1668.54,1442.05 1668.54,1446.71 1762.3,1446.71 1762.3,1442.05 1668.54,1442.05 \n",
       "  \"/>\n",
       "<path clip-path=\"url(#clip3702)\" d=\"\n",
       "M1762.3 1438.61 L1762.3 1446.71 L1856.05 1446.71 L1856.05 1438.61 L1762.3 1438.61 L1762.3 1438.61  Z\n",
       "  \" fill=\"#ff0000\" fill-rule=\"evenodd\" fill-opacity=\"1\"/>\n",
       "<polyline clip-path=\"url(#clip3702)\" style=\"stroke:#000000; stroke-width:4; stroke-opacity:1; fill:none\" points=\"\n",
       "  1762.3,1438.61 1762.3,1446.71 1856.05,1446.71 1856.05,1438.61 1762.3,1438.61 \n",
       "  \"/>\n",
       "<path clip-path=\"url(#clip3702)\" d=\"\n",
       "M1856.05 1437.6 L1856.05 1446.71 L1949.81 1446.71 L1949.81 1437.6 L1856.05 1437.6 L1856.05 1437.6  Z\n",
       "  \" fill=\"#ff0000\" fill-rule=\"evenodd\" fill-opacity=\"1\"/>\n",
       "<polyline clip-path=\"url(#clip3702)\" style=\"stroke:#000000; stroke-width:4; stroke-opacity:1; fill:none\" points=\"\n",
       "  1856.05,1437.6 1856.05,1446.71 1949.81,1446.71 1949.81,1437.6 1856.05,1437.6 \n",
       "  \"/>\n",
       "<path clip-path=\"url(#clip3702)\" d=\"\n",
       "M1949.81 1441.85 L1949.81 1446.71 L2043.57 1446.71 L2043.57 1441.85 L1949.81 1441.85 L1949.81 1441.85  Z\n",
       "  \" fill=\"#ff0000\" fill-rule=\"evenodd\" fill-opacity=\"1\"/>\n",
       "<polyline clip-path=\"url(#clip3702)\" style=\"stroke:#000000; stroke-width:4; stroke-opacity:1; fill:none\" points=\"\n",
       "  1949.81,1441.85 1949.81,1446.71 2043.57,1446.71 2043.57,1441.85 1949.81,1441.85 \n",
       "  \"/>\n",
       "<path clip-path=\"url(#clip3702)\" d=\"\n",
       "M2043.57 1271.66 L2043.57 1446.71 L2137.32 1446.71 L2137.32 1271.66 L2043.57 1271.66 L2043.57 1271.66  Z\n",
       "  \" fill=\"#ff0000\" fill-rule=\"evenodd\" fill-opacity=\"1\"/>\n",
       "<polyline clip-path=\"url(#clip3702)\" style=\"stroke:#000000; stroke-width:4; stroke-opacity:1; fill:none\" points=\"\n",
       "  2043.57,1271.66 2043.57,1446.71 2137.32,1446.71 2137.32,1271.66 2043.57,1271.66 \n",
       "  \"/>\n",
       "<path clip-path=\"url(#clip3702)\" d=\"\n",
       "M2137.32 1147.66 L2137.32 1446.71 L2231.08 1446.71 L2231.08 1147.66 L2137.32 1147.66 L2137.32 1147.66  Z\n",
       "  \" fill=\"#ff0000\" fill-rule=\"evenodd\" fill-opacity=\"1\"/>\n",
       "<polyline clip-path=\"url(#clip3702)\" style=\"stroke:#000000; stroke-width:4; stroke-opacity:1; fill:none\" points=\"\n",
       "  2137.32,1147.66 2137.32,1446.71 2231.08,1446.71 2231.08,1147.66 2137.32,1147.66 \n",
       "  \"/>\n",
       "<path clip-path=\"url(#clip3702)\" d=\"\n",
       "M449.707 1446.51 L449.707 1446.71 L543.463 1446.71 L543.463 1446.51 L449.707 1446.51 L449.707 1446.51  Z\n",
       "  \" fill=\"#ffff00\" fill-rule=\"evenodd\" fill-opacity=\"1\"/>\n",
       "<polyline clip-path=\"url(#clip3702)\" style=\"stroke:#000000; stroke-width:4; stroke-opacity:1; fill:none\" points=\"\n",
       "  449.707,1446.51 449.707,1446.71 543.463,1446.71 543.463,1446.51 449.707,1446.51 \n",
       "  \"/>\n",
       "<path clip-path=\"url(#clip3702)\" d=\"\n",
       "M543.463 1445.9 L543.463 1446.71 L637.22 1446.71 L637.22 1445.9 L543.463 1445.9 L543.463 1445.9  Z\n",
       "  \" fill=\"#ffff00\" fill-rule=\"evenodd\" fill-opacity=\"1\"/>\n",
       "<polyline clip-path=\"url(#clip3702)\" style=\"stroke:#000000; stroke-width:4; stroke-opacity:1; fill:none\" points=\"\n",
       "  543.463,1445.9 543.463,1446.71 637.22,1446.71 637.22,1445.9 543.463,1445.9 \n",
       "  \"/>\n",
       "<path clip-path=\"url(#clip3702)\" d=\"\n",
       "M637.22 1444.69 L637.22 1446.71 L730.976 1446.71 L730.976 1444.69 L637.22 1444.69 L637.22 1444.69  Z\n",
       "  \" fill=\"#ffff00\" fill-rule=\"evenodd\" fill-opacity=\"1\"/>\n",
       "<polyline clip-path=\"url(#clip3702)\" style=\"stroke:#000000; stroke-width:4; stroke-opacity:1; fill:none\" points=\"\n",
       "  637.22,1444.69 637.22,1446.71 730.976,1446.71 730.976,1444.69 637.22,1444.69 \n",
       "  \"/>\n",
       "<path clip-path=\"url(#clip3702)\" d=\"\n",
       "M730.976 1435.98 L730.976 1446.71 L824.732 1446.71 L824.732 1435.98 L730.976 1435.98 L730.976 1435.98  Z\n",
       "  \" fill=\"#ffff00\" fill-rule=\"evenodd\" fill-opacity=\"1\"/>\n",
       "<polyline clip-path=\"url(#clip3702)\" style=\"stroke:#000000; stroke-width:4; stroke-opacity:1; fill:none\" points=\"\n",
       "  730.976,1435.98 730.976,1446.71 824.732,1446.71 824.732,1435.98 730.976,1435.98 \n",
       "  \"/>\n",
       "<path clip-path=\"url(#clip3702)\" d=\"\n",
       "M824.732 1425.84 L824.732 1446.71 L918.489 1446.71 L918.489 1425.84 L824.732 1425.84 L824.732 1425.84  Z\n",
       "  \" fill=\"#ffff00\" fill-rule=\"evenodd\" fill-opacity=\"1\"/>\n",
       "<polyline clip-path=\"url(#clip3702)\" style=\"stroke:#000000; stroke-width:4; stroke-opacity:1; fill:none\" points=\"\n",
       "  824.732,1425.84 824.732,1446.71 918.489,1446.71 918.489,1425.84 824.732,1425.84 \n",
       "  \"/>\n",
       "<path clip-path=\"url(#clip3702)\" d=\"\n",
       "M918.489 1423.01 L918.489 1446.71 L1012.25 1446.71 L1012.25 1423.01 L918.489 1423.01 L918.489 1423.01  Z\n",
       "  \" fill=\"#ffff00\" fill-rule=\"evenodd\" fill-opacity=\"1\"/>\n",
       "<polyline clip-path=\"url(#clip3702)\" style=\"stroke:#000000; stroke-width:4; stroke-opacity:1; fill:none\" points=\"\n",
       "  918.489,1423.01 918.489,1446.71 1012.25,1446.71 1012.25,1423.01 918.489,1423.01 \n",
       "  \"/>\n",
       "<path clip-path=\"url(#clip3702)\" d=\"\n",
       "M1012.25 1406.39 L1012.25 1446.71 L1106 1446.71 L1106 1406.39 L1012.25 1406.39 L1012.25 1406.39  Z\n",
       "  \" fill=\"#ffff00\" fill-rule=\"evenodd\" fill-opacity=\"1\"/>\n",
       "<polyline clip-path=\"url(#clip3702)\" style=\"stroke:#000000; stroke-width:4; stroke-opacity:1; fill:none\" points=\"\n",
       "  1012.25,1406.39 1012.25,1446.71 1106,1446.71 1106,1406.39 1012.25,1406.39 \n",
       "  \"/>\n",
       "<path clip-path=\"url(#clip3702)\" d=\"\n",
       "M1106 1376.81 L1106 1446.71 L1199.76 1446.71 L1199.76 1376.81 L1106 1376.81 L1106 1376.81  Z\n",
       "  \" fill=\"#ffff00\" fill-rule=\"evenodd\" fill-opacity=\"1\"/>\n",
       "<polyline clip-path=\"url(#clip3702)\" style=\"stroke:#000000; stroke-width:4; stroke-opacity:1; fill:none\" points=\"\n",
       "  1106,1376.81 1106,1446.71 1199.76,1446.71 1199.76,1376.81 1106,1376.81 \n",
       "  \"/>\n",
       "<path clip-path=\"url(#clip3702)\" d=\"\n",
       "M1199.76 1299.01 L1199.76 1446.71 L1293.51 1446.71 L1293.51 1299.01 L1199.76 1299.01 L1199.76 1299.01  Z\n",
       "  \" fill=\"#ffff00\" fill-rule=\"evenodd\" fill-opacity=\"1\"/>\n",
       "<polyline clip-path=\"url(#clip3702)\" style=\"stroke:#000000; stroke-width:4; stroke-opacity:1; fill:none\" points=\"\n",
       "  1199.76,1299.01 1199.76,1446.71 1293.51,1446.71 1293.51,1299.01 1199.76,1299.01 \n",
       "  \"/>\n",
       "<path clip-path=\"url(#clip3702)\" d=\"\n",
       "M1293.51 1306.3 L1293.51 1446.71 L1387.27 1446.71 L1387.27 1306.3 L1293.51 1306.3 L1293.51 1306.3  Z\n",
       "  \" fill=\"#ffff00\" fill-rule=\"evenodd\" fill-opacity=\"1\"/>\n",
       "<polyline clip-path=\"url(#clip3702)\" style=\"stroke:#000000; stroke-width:4; stroke-opacity:1; fill:none\" points=\"\n",
       "  1293.51,1306.3 1293.51,1446.71 1387.27,1446.71 1387.27,1306.3 1293.51,1306.3 \n",
       "  \"/>\n",
       "<path clip-path=\"url(#clip3702)\" d=\"\n",
       "M1387.27 1438.2 L1387.27 1446.71 L1481.03 1446.71 L1481.03 1438.2 L1387.27 1438.2 L1387.27 1438.2  Z\n",
       "  \" fill=\"#ffff00\" fill-rule=\"evenodd\" fill-opacity=\"1\"/>\n",
       "<polyline clip-path=\"url(#clip3702)\" style=\"stroke:#000000; stroke-width:4; stroke-opacity:1; fill:none\" points=\"\n",
       "  1387.27,1438.2 1387.27,1446.71 1481.03,1446.71 1481.03,1438.2 1387.27,1438.2 \n",
       "  \"/>\n",
       "<path clip-path=\"url(#clip3702)\" d=\"\n",
       "M1481.03 1438.81 L1481.03 1446.71 L1574.78 1446.71 L1574.78 1438.81 L1481.03 1438.81 L1481.03 1438.81  Z\n",
       "  \" fill=\"#ffff00\" fill-rule=\"evenodd\" fill-opacity=\"1\"/>\n",
       "<polyline clip-path=\"url(#clip3702)\" style=\"stroke:#000000; stroke-width:4; stroke-opacity:1; fill:none\" points=\"\n",
       "  1481.03,1438.81 1481.03,1446.71 1574.78,1446.71 1574.78,1438.81 1481.03,1438.81 \n",
       "  \"/>\n",
       "<path clip-path=\"url(#clip3702)\" d=\"\n",
       "M1574.78 1440.03 L1574.78 1446.71 L1668.54 1446.71 L1668.54 1440.03 L1574.78 1440.03 L1574.78 1440.03  Z\n",
       "  \" fill=\"#ffff00\" fill-rule=\"evenodd\" fill-opacity=\"1\"/>\n",
       "<polyline clip-path=\"url(#clip3702)\" style=\"stroke:#000000; stroke-width:4; stroke-opacity:1; fill:none\" points=\"\n",
       "  1574.78,1440.03 1574.78,1446.71 1668.54,1446.71 1668.54,1440.03 1574.78,1440.03 \n",
       "  \"/>\n",
       "<path clip-path=\"url(#clip3702)\" d=\"\n",
       "M1668.54 1437.8 L1668.54 1446.71 L1762.3 1446.71 L1762.3 1437.8 L1668.54 1437.8 L1668.54 1437.8  Z\n",
       "  \" fill=\"#ffff00\" fill-rule=\"evenodd\" fill-opacity=\"1\"/>\n",
       "<polyline clip-path=\"url(#clip3702)\" style=\"stroke:#000000; stroke-width:4; stroke-opacity:1; fill:none\" points=\"\n",
       "  1668.54,1437.8 1668.54,1446.71 1762.3,1446.71 1762.3,1437.8 1668.54,1437.8 \n",
       "  \"/>\n",
       "<path clip-path=\"url(#clip3702)\" d=\"\n",
       "M1762.3 1442.26 L1762.3 1446.71 L1856.05 1446.71 L1856.05 1442.26 L1762.3 1442.26 L1762.3 1442.26  Z\n",
       "  \" fill=\"#ffff00\" fill-rule=\"evenodd\" fill-opacity=\"1\"/>\n",
       "<polyline clip-path=\"url(#clip3702)\" style=\"stroke:#000000; stroke-width:4; stroke-opacity:1; fill:none\" points=\"\n",
       "  1762.3,1442.26 1762.3,1446.71 1856.05,1446.71 1856.05,1442.26 1762.3,1442.26 \n",
       "  \"/>\n",
       "<path clip-path=\"url(#clip3702)\" d=\"\n",
       "M1856.05 1439.01 L1856.05 1446.71 L1949.81 1446.71 L1949.81 1439.01 L1856.05 1439.01 L1856.05 1439.01  Z\n",
       "  \" fill=\"#ffff00\" fill-rule=\"evenodd\" fill-opacity=\"1\"/>\n",
       "<polyline clip-path=\"url(#clip3702)\" style=\"stroke:#000000; stroke-width:4; stroke-opacity:1; fill:none\" points=\"\n",
       "  1856.05,1439.01 1856.05,1446.71 1949.81,1446.71 1949.81,1439.01 1856.05,1439.01 \n",
       "  \"/>\n",
       "<path clip-path=\"url(#clip3702)\" d=\"\n",
       "M1949.81 1440.03 L1949.81 1446.71 L2043.57 1446.71 L2043.57 1440.03 L1949.81 1440.03 L1949.81 1440.03  Z\n",
       "  \" fill=\"#ffff00\" fill-rule=\"evenodd\" fill-opacity=\"1\"/>\n",
       "<polyline clip-path=\"url(#clip3702)\" style=\"stroke:#000000; stroke-width:4; stroke-opacity:1; fill:none\" points=\"\n",
       "  1949.81,1440.03 1949.81,1446.71 2043.57,1446.71 2043.57,1440.03 1949.81,1440.03 \n",
       "  \"/>\n",
       "<path clip-path=\"url(#clip3702)\" d=\"\n",
       "M2043.57 1286.85 L2043.57 1446.71 L2137.32 1446.71 L2137.32 1286.85 L2043.57 1286.85 L2043.57 1286.85  Z\n",
       "  \" fill=\"#ffff00\" fill-rule=\"evenodd\" fill-opacity=\"1\"/>\n",
       "<polyline clip-path=\"url(#clip3702)\" style=\"stroke:#000000; stroke-width:4; stroke-opacity:1; fill:none\" points=\"\n",
       "  2043.57,1286.85 2043.57,1446.71 2137.32,1446.71 2137.32,1286.85 2043.57,1286.85 \n",
       "  \"/>\n",
       "<path clip-path=\"url(#clip3702)\" d=\"\n",
       "M2137.32 88.0053 L2137.32 1446.71 L2231.08 1446.71 L2231.08 88.0053 L2137.32 88.0053 L2137.32 88.0053  Z\n",
       "  \" fill=\"#ffff00\" fill-rule=\"evenodd\" fill-opacity=\"1\"/>\n",
       "<polyline clip-path=\"url(#clip3702)\" style=\"stroke:#000000; stroke-width:4; stroke-opacity:1; fill:none\" points=\"\n",
       "  2137.32,88.0053 2137.32,1446.71 2231.08,1446.71 2231.08,88.0053 2137.32,88.0053 \n",
       "  \"/>\n",
       "<path clip-path=\"url(#clip3700)\" d=\"\n",
       "M1880.18 312.204 L2280.76 312.204 L2280.76 130.764 L1880.18 130.764  Z\n",
       "  \" fill=\"#ffffff\" fill-rule=\"evenodd\" fill-opacity=\"1\"/>\n",
       "<polyline clip-path=\"url(#clip3700)\" style=\"stroke:#000000; stroke-width:4; stroke-opacity:1; fill:none\" points=\"\n",
       "  1880.18,312.204 2280.76,312.204 2280.76,130.764 1880.18,130.764 1880.18,312.204 \n",
       "  \"/>\n",
       "<path clip-path=\"url(#clip3700)\" d=\"\n",
       "M1904.18 215.436 L2048.18 215.436 L2048.18 167.052 L1904.18 167.052 L1904.18 215.436  Z\n",
       "  \" fill=\"#ff0000\" fill-rule=\"evenodd\" fill-opacity=\"1\"/>\n",
       "<polyline clip-path=\"url(#clip3700)\" style=\"stroke:#000000; stroke-width:4; stroke-opacity:1; fill:none\" points=\"\n",
       "  1904.18,215.436 2048.18,215.436 2048.18,167.052 1904.18,167.052 1904.18,215.436 \n",
       "  \"/>\n",
       "<g clip-path=\"url(#clip3700)\">\n",
       "<text style=\"fill:#000000; fill-opacity:1; font-family:Arial,Helvetica Neue,Helvetica,sans-serif; font-size:48px; text-anchor:start;\" transform=\"rotate(0, 2072.18, 208.744)\" x=\"2072.18\" y=\"208.744\">apple</text>\n",
       "</g>\n",
       "<path clip-path=\"url(#clip3700)\" d=\"\n",
       "M1904.18 275.916 L2048.18 275.916 L2048.18 227.532 L1904.18 227.532 L1904.18 275.916  Z\n",
       "  \" fill=\"#ffff00\" fill-rule=\"evenodd\" fill-opacity=\"1\"/>\n",
       "<polyline clip-path=\"url(#clip3700)\" style=\"stroke:#000000; stroke-width:4; stroke-opacity:1; fill:none\" points=\"\n",
       "  1904.18,275.916 2048.18,275.916 2048.18,227.532 1904.18,227.532 1904.18,275.916 \n",
       "  \"/>\n",
       "<g clip-path=\"url(#clip3700)\">\n",
       "<text style=\"fill:#000000; fill-opacity:1; font-family:Arial,Helvetica Neue,Helvetica,sans-serif; font-size:48px; text-anchor:start;\" transform=\"rotate(0, 2072.18, 269.224)\" x=\"2072.18\" y=\"269.224\">banana</text>\n",
       "</g>\n",
       "</svg>\n"
      ]
     },
     "execution_count": 31,
     "metadata": {},
     "output_type": "execute_result"
    }
   ],
   "source": [
    "histogram( float.(green.(apple[:])), color=\"red\", label=\"apple\", normalize=true, bins=25)\n",
    "histogram!( float.(green.(banana[:])), color=\"yellow\", label=\"banana\", normalize=true, bins=25)"
   ]
  },
  {
   "cell_type": "code",
   "execution_count": 32,
   "metadata": {},
   "outputs": [
    {
     "data": {
      "image/png": "[encoded data removed]",
      "text/plain": [
       "100×100 Array{RGB{N0f8},2} with eltype RGB{Normed{UInt8,8}}:\n",
       " RGB{N0f8}(0.996,1.0,0.984)    …  RGB{N0f8}(1.0,1.0,1.0)\n",
       " RGB{N0f8}(0.984,1.0,0.988)       RGB{N0f8}(1.0,1.0,1.0)\n",
       " RGB{N0f8}(0.973,1.0,0.988)       RGB{N0f8}(1.0,1.0,1.0)\n",
       " RGB{N0f8}(0.965,1.0,0.992)       RGB{N0f8}(1.0,1.0,1.0)\n",
       " RGB{N0f8}(0.965,1.0,1.0)         RGB{N0f8}(1.0,1.0,1.0)\n",
       " RGB{N0f8}(0.973,1.0,1.0)      …  RGB{N0f8}(1.0,1.0,1.0)\n",
       " RGB{N0f8}(0.992,0.996,1.0)       RGB{N0f8}(1.0,1.0,1.0)\n",
       " RGB{N0f8}(1.0,0.992,1.0)         RGB{N0f8}(1.0,1.0,1.0)\n",
       " RGB{N0f8}(1.0,0.98,1.0)          RGB{N0f8}(1.0,1.0,1.0)\n",
       " RGB{N0f8}(1.0,0.984,1.0)         RGB{N0f8}(1.0,1.0,1.0)\n",
       " RGB{N0f8}(1.0,0.988,1.0)      …  RGB{N0f8}(1.0,1.0,1.0)\n",
       " RGB{N0f8}(1.0,0.996,1.0)         RGB{N0f8}(1.0,1.0,1.0)\n",
       " RGB{N0f8}(1.0,1.0,1.0)           RGB{N0f8}(1.0,1.0,1.0)\n",
       " ⋮                             ⋱  \n",
       " RGB{N0f8}(0.992,1.0,0.988)       RGB{N0f8}(1.0,1.0,1.0)\n",
       " RGB{N0f8}(0.984,1.0,0.988)       RGB{N0f8}(1.0,1.0,1.0)\n",
       " RGB{N0f8}(0.992,1.0,0.996)    …  RGB{N0f8}(1.0,1.0,1.0)\n",
       " RGB{N0f8}(0.996,1.0,1.0)         RGB{N0f8}(1.0,1.0,1.0)\n",
       " RGB{N0f8}(0.996,0.996,0.996)     RGB{N0f8}(1.0,1.0,1.0)\n",
       " RGB{N0f8}(1.0,0.992,0.996)       RGB{N0f8}(1.0,1.0,1.0)\n",
       " RGB{N0f8}(1.0,0.992,0.996)       RGB{N0f8}(1.0,1.0,1.0)\n",
       " RGB{N0f8}(1.0,0.992,0.996)    …  RGB{N0f8}(1.0,1.0,1.0)\n",
       " RGB{N0f8}(1.0,1.0,1.0)           RGB{N0f8}(1.0,1.0,1.0)\n",
       " RGB{N0f8}(1.0,1.0,1.0)           RGB{N0f8}(1.0,1.0,1.0)\n",
       " RGB{N0f8}(1.0,1.0,1.0)           RGB{N0f8}(1.0,1.0,1.0)\n",
       " RGB{N0f8}(1.0,1.0,1.0)           RGB{N0f8}(1.0,1.0,1.0)"
      ]
     },
     "execution_count": 32,
     "metadata": {},
     "output_type": "execute_result"
    }
   ],
   "source": [
    "apple"
   ]
  },
  {
   "cell_type": "code",
   "execution_count": 36,
   "metadata": {},
   "outputs": [
    {
     "data": {
      "text/plain": [
       "0.5702784313725491"
      ]
     },
     "execution_count": 36,
     "metadata": {},
     "output_type": "execute_result"
    }
   ],
   "source": [
    "redpartofapple = Float64.(red.(apple))\n",
    "mean(redpartofapple)"
   ]
  },
  {
   "cell_type": "code",
   "execution_count": 37,
   "metadata": {},
   "outputs": [],
   "source": [
    "using Images, Statistics"
   ]
  },
  {
   "cell_type": "code",
   "execution_count": 38,
   "metadata": {},
   "outputs": [
    {
     "data": {
      "image/png": "[encoded data removed]",
      "text/plain": [
       "100×100 Array{RGB{N0f8},2} with eltype RGB{Normed{UInt8,8}}:\n",
       " RGB{N0f8}(1.0,1.0,1.0)  RGB{N0f8}(1.0,1.0,1.0)  …  RGB{N0f8}(1.0,1.0,1.0)\n",
       " RGB{N0f8}(1.0,1.0,1.0)  RGB{N0f8}(1.0,1.0,1.0)     RGB{N0f8}(1.0,1.0,1.0)\n",
       " RGB{N0f8}(1.0,1.0,1.0)  RGB{N0f8}(1.0,1.0,1.0)     RGB{N0f8}(1.0,1.0,1.0)\n",
       " RGB{N0f8}(1.0,1.0,1.0)  RGB{N0f8}(1.0,1.0,1.0)     RGB{N0f8}(1.0,1.0,1.0)\n",
       " RGB{N0f8}(1.0,1.0,1.0)  RGB{N0f8}(1.0,1.0,1.0)     RGB{N0f8}(1.0,1.0,1.0)\n",
       " RGB{N0f8}(1.0,1.0,1.0)  RGB{N0f8}(1.0,1.0,1.0)  …  RGB{N0f8}(1.0,1.0,1.0)\n",
       " RGB{N0f8}(1.0,1.0,1.0)  RGB{N0f8}(1.0,1.0,1.0)     RGB{N0f8}(1.0,1.0,1.0)\n",
       " RGB{N0f8}(1.0,1.0,1.0)  RGB{N0f8}(1.0,1.0,1.0)     RGB{N0f8}(1.0,1.0,1.0)\n",
       " RGB{N0f8}(1.0,1.0,1.0)  RGB{N0f8}(1.0,1.0,1.0)     RGB{N0f8}(1.0,1.0,1.0)\n",
       " RGB{N0f8}(1.0,1.0,1.0)  RGB{N0f8}(1.0,1.0,1.0)     RGB{N0f8}(1.0,1.0,1.0)\n",
       " RGB{N0f8}(1.0,1.0,1.0)  RGB{N0f8}(1.0,1.0,1.0)  …  RGB{N0f8}(1.0,1.0,1.0)\n",
       " RGB{N0f8}(1.0,1.0,1.0)  RGB{N0f8}(1.0,1.0,1.0)     RGB{N0f8}(1.0,1.0,1.0)\n",
       " RGB{N0f8}(1.0,1.0,1.0)  RGB{N0f8}(1.0,1.0,1.0)     RGB{N0f8}(1.0,1.0,1.0)\n",
       " ⋮                                               ⋱  \n",
       " RGB{N0f8}(1.0,1.0,1.0)  RGB{N0f8}(1.0,1.0,1.0)     RGB{N0f8}(1.0,1.0,1.0)\n",
       " RGB{N0f8}(1.0,1.0,1.0)  RGB{N0f8}(1.0,1.0,1.0)     RGB{N0f8}(1.0,1.0,1.0)\n",
       " RGB{N0f8}(1.0,1.0,1.0)  RGB{N0f8}(1.0,1.0,1.0)  …  RGB{N0f8}(1.0,1.0,1.0)\n",
       " RGB{N0f8}(1.0,1.0,1.0)  RGB{N0f8}(1.0,1.0,1.0)     RGB{N0f8}(1.0,1.0,1.0)\n",
       " RGB{N0f8}(1.0,1.0,1.0)  RGB{N0f8}(1.0,1.0,1.0)     RGB{N0f8}(1.0,1.0,1.0)\n",
       " RGB{N0f8}(1.0,1.0,1.0)  RGB{N0f8}(1.0,1.0,1.0)     RGB{N0f8}(1.0,1.0,1.0)\n",
       " RGB{N0f8}(1.0,1.0,1.0)  RGB{N0f8}(1.0,1.0,1.0)     RGB{N0f8}(1.0,1.0,1.0)\n",
       " RGB{N0f8}(1.0,1.0,1.0)  RGB{N0f8}(1.0,1.0,1.0)  …  RGB{N0f8}(1.0,1.0,1.0)\n",
       " RGB{N0f8}(1.0,1.0,1.0)  RGB{N0f8}(1.0,1.0,1.0)     RGB{N0f8}(1.0,1.0,1.0)\n",
       " RGB{N0f8}(1.0,1.0,1.0)  RGB{N0f8}(1.0,1.0,1.0)     RGB{N0f8}(1.0,1.0,1.0)\n",
       " RGB{N0f8}(1.0,1.0,1.0)  RGB{N0f8}(1.0,1.0,1.0)     RGB{N0f8}(1.0,1.0,1.0)\n",
       " RGB{N0f8}(1.0,1.0,1.0)  RGB{N0f8}(1.0,1.0,1.0)     RGB{N0f8}(1.0,1.0,1.0)"
      ]
     },
     "execution_count": 38,
     "metadata": {},
     "output_type": "execute_result"
    }
   ],
   "source": [
    "apple = load(datapath(\"data/10_100.jpg\"))\n",
    "banana = load(datapath(\"data/104_100.jpg\"))"
   ]
  },
  {
   "cell_type": "code",
   "execution_count": 39,
   "metadata": {},
   "outputs": [
    {
     "data": {
      "text/plain": [
       "0.9039976470588237"
      ]
     },
     "execution_count": 39,
     "metadata": {},
     "output_type": "execute_result"
    }
   ],
   "source": [
    "apple_red_amount = mean(Float64.(red.(apple)))\n",
    "banana_red_amount = mean(Float64.(red.(banana)))"
   ]
  },
  {
   "cell_type": "code",
   "execution_count": 40,
   "metadata": {},
   "outputs": [
    {
     "data": {
      "text/plain": [
       "\"The average value of red in the apple is 0.5702784313725491, while the average value of red in the banana is 0.9039976470588237.\""
      ]
     },
     "execution_count": 40,
     "metadata": {},
     "output_type": "execute_result"
    }
   ],
   "source": [
    "\"The average value of red in the apple is $apple_red_amount, \" *\n",
    "\"while the average value of red in the banana is $banana_red_amount.\""
   ]
  },
  {
   "cell_type": "code",
   "execution_count": 41,
   "metadata": {},
   "outputs": [
    {
     "data": {
      "text/plain": [
       "\"The amount of red in the apple at (60, 60) is 0.44705882352941173, while the amount of red in the banana at (60, 60) is 0.6666666666666666.\""
      ]
     },
     "execution_count": 41,
     "metadata": {},
     "output_type": "execute_result"
    }
   ],
   "source": [
    "\"The amount of red in the apple at (60, 60) is $(Float64(red(apple[60, 60]))), \" *\n",
    "\"while the amount of red in the banana at (60, 60) is $(Float64(red(banana[60, 60]))).\""
   ]
  },
  {
   "cell_type": "code",
   "execution_count": 42,
   "metadata": {},
   "outputs": [
    {
     "data": {
      "image/svg+xml": [
       "<?xml version=\"1.0\" encoding=\"UTF-8\"?>\n",
       "<!DOCTYPE svg PUBLIC \"-//W3C//DTD SVG 1.1//EN\"\n",
       " \"http://www.w3.org/Graphics/SVG/1.1/DTD/svg11.dtd\">\n",
       "<svg xmlns=\"http://www.w3.org/2000/svg\" version=\"1.1\"\n",
       "     width=\"25mm\" height=\"25mm\" viewBox=\"0 0 1 1\">\n",
       "    <rect width=\"1\" height=\"1\" fill=\"#720C07\" stroke=\"none\"/>\n",
       "</svg>\n"
      ],
      "text/plain": [
       "RGB{N0f8}(0.447,0.047,0.027)"
      ]
     },
     "execution_count": 42,
     "metadata": {},
     "output_type": "execute_result"
    }
   ],
   "source": [
    "apple[60,60]"
   ]
  },
  {
   "cell_type": "code",
   "execution_count": 43,
   "metadata": {},
   "outputs": [
    {
     "data": {
      "image/svg+xml": [
       "<?xml version=\"1.0\" encoding=\"UTF-8\"?>\n",
       "<!DOCTYPE svg PUBLIC \"-//W3C//DTD SVG 1.1//EN\"\n",
       " \"http://www.w3.org/Graphics/SVG/1.1/DTD/svg11.dtd\">\n",
       "<svg xmlns=\"http://www.w3.org/2000/svg\" version=\"1.1\"\n",
       "     width=\"25mm\" height=\"25mm\" viewBox=\"0 0 1 1\">\n",
       "    <rect width=\"1\" height=\"1\" fill=\"#AA9717\" stroke=\"none\"/>\n",
       "</svg>\n"
      ],
      "text/plain": [
       "RGB{N0f8}(0.667,0.592,0.09)"
      ]
     },
     "execution_count": 43,
     "metadata": {},
     "output_type": "execute_result"
    }
   ],
   "source": [
    "banana[60,60]"
   ]
  },
  {
   "cell_type": "code",
   "execution_count": null,
   "metadata": {},
   "outputs": [],
   "source": []
  }
 ],
 "metadata": {
  "kernelspec": {
   "display_name": "Julia 1.4.0",
   "language": "julia",
   "name": "julia-1.4"
  },
  "language_info": {
   "file_extension": ".jl",
   "mimetype": "application/julia",
   "name": "julia",
   "version": "1.4.0"
  }
 },
 "nbformat": 4,
 "nbformat_minor": 4
}
