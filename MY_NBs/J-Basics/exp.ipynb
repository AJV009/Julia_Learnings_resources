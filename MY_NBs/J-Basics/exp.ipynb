{
 "cells": [
  {
   "cell_type": "code",
   "execution_count": 78,
   "metadata": {},
   "outputs": [
    {
     "data": {
      "text/plain": [
       "hello (generic function with 1 method)"
      ]
     },
     "execution_count": 78,
     "metadata": {},
     "output_type": "execute_result"
    }
   ],
   "source": [
    "function hello(x)\n",
    "    print(\"This is first function execution!\")\n",
    "    for i in range(x,length=x)\n",
    "        println(i)\n",
    "    end\n",
    "end"
   ]
  },
  {
   "cell_type": "code",
   "execution_count": 80,
   "metadata": {},
   "outputs": [
    {
     "name": "stdout",
     "output_type": "stream",
     "text": [
      "This is first function execution!"
     ]
    },
    {
     "ename": "TypeError",
     "evalue": "TypeError: in keyword argument length, expected Union{Nothing, Integer}, got Array{Int64,1}",
     "output_type": "error",
     "traceback": [
      "TypeError: in keyword argument length, expected Union{Nothing, Integer}, got Array{Int64,1}",
      "",
      "Stacktrace:",
      " [1] hello(::Array{Int64,1}) at .\\In[78]:3",
      " [2] top-level scope at In[80]:2"
     ]
    }
   ],
   "source": [
    "x =[1,2,3,4,5,6,6]\n",
    "hello(x)"
   ]
  },
  {
   "cell_type": "code",
   "execution_count": null,
   "metadata": {},
   "outputs": [],
   "source": []
  },
  {
   "cell_type": "code",
   "execution_count": null,
   "metadata": {},
   "outputs": [],
   "source": []
  }
 ],
 "metadata": {
  "kernelspec": {
   "display_name": "Julia 1.4.0",
   "language": "julia",
   "name": "julia-1.4"
  },
  "language_info": {
   "file_extension": ".jl",
   "mimetype": "application/julia",
   "name": "julia",
   "version": "1.4.0"
  }
 },
 "nbformat": 4,
 "nbformat_minor": 4
}
