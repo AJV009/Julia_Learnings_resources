{
 "cells": [
  {
   "cell_type": "code",
   "execution_count": 1,
   "metadata": {},
   "outputs": [
    {
     "name": "stderr",
     "output_type": "stream",
     "text": [
      "┌ Info: Precompiling Plots [91a5bcdd-55d7-5caf-9e0b-520d859cae80]\n",
      "└ @ Base loading.jl:1260\n"
     ]
    }
   ],
   "source": [
    "using Knet, Plots, Statistics, LinearAlgebra, Random"
   ]
  },
  {
   "cell_type": "code",
   "execution_count": 2,
   "metadata": {},
   "outputs": [],
   "source": [
    "Base.argmax(a::KnetArray) = argmax(Array(a))\n",
    "Base.argmax(a::AutoGrad.Value) = argmax(value(a))"
   ]
  },
  {
   "cell_type": "code",
   "execution_count": 3,
   "metadata": {},
   "outputs": [
    {
     "data": {
      "text/plain": [
       "72"
      ]
     },
     "execution_count": 3,
     "metadata": {},
     "output_type": "execute_result"
    }
   ],
   "source": [
    "ENV[\"COLUMNS\"] = 72"
   ]
  },
  {
   "cell_type": "code",
   "execution_count": 6,
   "metadata": {},
   "outputs": [
    {
     "name": "stderr",
     "output_type": "stream",
     "text": [
      "┌ Warning: Pkg.installed() is deprecated\n",
      "└ @ Pkg D:\\buildbot\\worker\\package_win64\\build\\usr\\share\\julia\\stdlib\\v1.4\\Pkg\\src\\Pkg.jl:531\n"
     ]
    },
    {
     "data": {
      "text/plain": [
       "(Float32[0.0 0.0 … 0.0 0.0; 0.0 0.0 … 0.0 0.0; … ; 0.0 0.0 … 0.0 0.0; 0.0 1.0 … 0.0 0.0], Float32[0.0 0.0 … 0.0 0.0; 0.0 1.0 … 0.0 0.0; … ; 0.0 0.0 … 0.0 0.0; 0.0 0.0 … 0.0 0.0])"
      ]
     },
     "execution_count": 6,
     "metadata": {},
     "output_type": "execute_result"
    }
   ],
   "source": [
    "include(Knet.dir(\"data/mnist.jl\"))\n",
    "\n",
    "xtrn, ytrn, xtst, ytst = mnist()\n",
    "\n",
    "ARRAY = Array{Float32}\n",
    "\n",
    "xtrn, xtst = ARRAY( mat(xtrn) ), ARRAY( mat(xtst) )\n",
    "\n",
    "function onehot(y)\n",
    "    m = ARRAY( zeros( maximum(y), length(y) ) )\n",
    "    for i in 1:length(y)\n",
    "        m[ y[i], i] = 1\n",
    "    end\n",
    "    m\n",
    "end\n",
    "    \n",
    "ytrn, ytst = onehot(ytrn), onehot(ytst)"
   ]
  },
  {
   "cell_type": "code",
   "execution_count": 7,
   "metadata": {},
   "outputs": [
    {
     "name": "stdout",
     "output_type": "stream",
     "text": [
      "784×60000 Array{Float32,2}\n",
      "10×60000 Array{Float32,2}\n",
      "784×10000 Array{Float32,2}\n",
      "10×10000 Array{Float32,2}\n"
     ]
    },
    {
     "data": {
      "text/plain": [
       "(nothing, nothing, nothing, nothing)"
      ]
     },
     "execution_count": 7,
     "metadata": {},
     "output_type": "execute_result"
    }
   ],
   "source": [
    "println.( summary.((xtrn, ytrn, xtst, ytst)))"
   ]
  },
  {
   "cell_type": "code",
   "execution_count": 11,
   "metadata": {},
   "outputs": [
    {
     "data": {
      "text/plain": [
       "(60000, 10000, 784, 10)"
      ]
     },
     "execution_count": 11,
     "metadata": {},
     "output_type": "execute_result"
    }
   ],
   "source": [
    "NTRN, NTST, XDIN, YDIN = size(xtrn,2), size(xtst,2), size(xtrn,1), size(ytrn,1)"
   ]
  },
  {
   "cell_type": "code",
   "execution_count": 12,
   "metadata": {},
   "outputs": [
    {
     "data": {
      "text/plain": [
       "10×784 Array{Float32,2}:\n",
       "  1.46921    -0.82374     1.02799    …   0.767117     1.18014\n",
       " -0.734889    1.63881    -0.233767      -0.176612     0.742851\n",
       " -0.588088   -0.635935   -1.07059       -1.20605      1.12807\n",
       "  0.45404    -0.843134   -0.165599      -0.465834    -0.00227915\n",
       " -0.941397    0.277438   -2.19875       -0.00797649  -1.00516\n",
       "  0.199459   -0.801237    0.825526   …  -0.294744     0.289672\n",
       " -1.3696      0.0872109  -0.0883313      0.230567     1.64465\n",
       "  0.0182876   0.509391    0.0119192      0.0563827    0.303291\n",
       "  0.667549   -0.668325   -1.19391       -0.0636985    0.36177\n",
       "  0.553008   -1.84913    -0.291411       1.65455      1.6533"
      ]
     },
     "execution_count": 12,
     "metadata": {},
     "output_type": "execute_result"
    }
   ],
   "source": [
    "# Model weights\n",
    "w = ARRAY(randn(YDIN, XDIN))"
   ]
  },
  {
   "cell_type": "code",
   "execution_count": 13,
   "metadata": {},
   "outputs": [
    {
     "data": {
      "text/plain": [
       "10×60000 Array{Float32,2}:\n",
       "  15.6275    12.3336      8.75735   …   18.4437     5.84873   7.28817\n",
       " -12.7581    -4.3409      2.39845        5.68609   -8.59408   7.63697\n",
       "   2.85026   12.607     -10.0656        -1.70818   21.7291   -5.82019\n",
       "  -2.91722    6.66727     0.775055      -5.3123    14.0391    9.04198\n",
       "   3.53098    3.92803     6.70215       -3.03835    2.82004  10.1184\n",
       "  18.5901    -2.57427    13.1555    …   12.5579    -3.06313  -6.2331\n",
       "  -0.424006   4.61277    11.8919        10.2205     8.25196   8.79809\n",
       "  -9.52184   -3.37142    10.3548        -0.253827  -2.168    -4.66507\n",
       "  -0.666528   4.77355    -3.17451      -11.791     -4.8382   -5.25604\n",
       "   3.76447   -0.925771    1.73937       14.8356    -4.5529    9.76019"
      ]
     },
     "execution_count": 13,
     "metadata": {},
     "output_type": "execute_result"
    }
   ],
   "source": [
    "# class scores\n",
    "w * xtrn"
   ]
  },
  {
   "cell_type": "code",
   "execution_count": 14,
   "metadata": {},
   "outputs": [
    {
     "data": {
      "text/plain": [
       "1×60000 Adjoint{Int64,Array{Int64,1}}:\n",
       " 5  10  4  1  9  2  1  3  1  4  3  …  8  9  2  9  5  1  8  3  5  6  8"
      ]
     },
     "execution_count": 14,
     "metadata": {},
     "output_type": "execute_result"
    }
   ],
   "source": [
    "# correct answers\n",
    "[ argmax( ytrn[:, i]) for i in 1:NTRN]'"
   ]
  },
  {
   "cell_type": "code",
   "execution_count": 19,
   "metadata": {},
   "outputs": [
    {
     "data": {
      "text/plain": [
       "(0.14406666666666668, 0.1479)"
      ]
     },
     "execution_count": 19,
     "metadata": {},
     "output_type": "execute_result"
    }
   ],
   "source": [
    "# Accuracy\n",
    "\n",
    "acc(w, x, y) = mean( argmax(w * x, dims=1) .== argmax(y, dims=1))\n",
    "acc(w, xtrn, ytrn), acc(w, xtst, ytst)"
   ]
  },
  {
   "cell_type": "code",
   "execution_count": 20,
   "metadata": {},
   "outputs": [
    {
     "data": {
      "text/plain": [
       "train (generic function with 2 methods)"
      ]
     },
     "execution_count": 20,
     "metadata": {},
     "output_type": "execute_result"
    }
   ],
   "source": [
    "# Training LOOPS\n",
    "function train(algo, x, y, T=2^20)\n",
    "    w = ARRAY( zeros( size(y,1), size(x,1) ))\n",
    "    n_examples = size(x,2)\n",
    "    next_print = 1\n",
    "    for t = 1:T\n",
    "        i = rand(1:n_examples)\n",
    "        algo(w, x[:,i], y[:,i])\n",
    "        if t == next_print\n",
    "            println((iter = t, accuracy = acc(w, x, y), wnorm=norm(w)))\n",
    "            next_print = min(2t,T)\n",
    "        end\n",
    "    end\n",
    "    w\n",
    "end"
   ]
  },
  {
   "cell_type": "code",
   "execution_count": 21,
   "metadata": {},
   "outputs": [
    {
     "data": {
      "text/plain": [
       "perceptron (generic function with 1 method)"
      ]
     },
     "execution_count": 21,
     "metadata": {},
     "output_type": "execute_result"
    }
   ],
   "source": [
    "# Perceptron\n",
    "\n",
    "function perceptron(w, x, y)\n",
    "    guess = argmax(w * x)\n",
    "    class = argmax(y)\n",
    "    if guess != class\n",
    "        w[class,:] .+= x\n",
    "        w[guess,:] .-= x\n",
    "    end\n",
    "end"
   ]
  },
  {
   "cell_type": "code",
   "execution_count": 22,
   "metadata": {},
   "outputs": [
    {
     "name": "stdout",
     "output_type": "stream",
     "text": [
      "(iter = 1, accuracy = 0.09871666666666666, wnorm = 17.490957f0)\n",
      "(iter = 2, accuracy = 0.15111666666666668, wnorm = 19.585426f0)\n",
      "(iter = 4, accuracy = 0.13533333333333333, wnorm = 25.171194f0)\n",
      "(iter = 8, accuracy = 0.16751666666666667, wnorm = 32.31005f0)\n",
      "(iter = 16, accuracy = 0.11953333333333334, wnorm = 41.04537f0)\n",
      "(iter = 32, accuracy = 0.29855, wnorm = 52.008053f0)\n",
      "(iter = 64, accuracy = 0.4830333333333333, wnorm = 67.332634f0)\n",
      "(iter = 128, accuracy = 0.5064666666666666, wnorm = 85.274055f0)\n",
      "(iter = 256, accuracy = 0.6461333333333333, wnorm = 115.53338f0)\n",
      "(iter = 512, accuracy = 0.6070166666666666, wnorm = 140.69481f0)\n",
      "(iter = 1024, accuracy = 0.7332, wnorm = 174.76021f0)\n",
      "(iter = 2048, accuracy = 0.7402333333333333, wnorm = 218.41365f0)\n",
      "(iter = 4096, accuracy = 0.82755, wnorm = 272.1519f0)\n",
      "(iter = 8192, accuracy = 0.8335, wnorm = 337.5124f0)\n",
      "(iter = 16384, accuracy = 0.8628833333333333, wnorm = 413.61862f0)\n",
      "(iter = 32768, accuracy = 0.8724833333333334, wnorm = 493.90195f0)\n",
      "(iter = 65536, accuracy = 0.8396166666666667, wnorm = 598.099f0)\n",
      "(iter = 131072, accuracy = 0.8891666666666667, wnorm = 709.715f0)\n",
      "(iter = 262144, accuracy = 0.8185166666666667, wnorm = 866.81506f0)\n",
      "(iter = 524288, accuracy = 0.89785, wnorm = 1062.2778f0)\n",
      "(iter = 1048576, accuracy = 0.8958833333333334, wnorm = 1318.2769f0)\n",
      " 10.815003 seconds (9.00 M allocations: 4.557 GiB, 7.46% gc time)\n"
     ]
    },
    {
     "data": {
      "text/plain": [
       "10×784 Array{Float32,2}:\n",
       " 0.0  0.0  0.0  0.0  0.0  0.0  0.0  …   0.0       0.0  0.0  0.0  0.0\n",
       " 0.0  0.0  0.0  0.0  0.0  0.0  0.0      0.0       0.0  0.0  0.0  0.0\n",
       " 0.0  0.0  0.0  0.0  0.0  0.0  0.0      0.0       0.0  0.0  0.0  0.0\n",
       " 0.0  0.0  0.0  0.0  0.0  0.0  0.0     -0.698039  0.0  0.0  0.0  0.0\n",
       " 0.0  0.0  0.0  0.0  0.0  0.0  0.0      0.0       0.0  0.0  0.0  0.0\n",
       " 0.0  0.0  0.0  0.0  0.0  0.0  0.0  …   0.0       0.0  0.0  0.0  0.0\n",
       " 0.0  0.0  0.0  0.0  0.0  0.0  0.0      5.11373   0.0  0.0  0.0  0.0\n",
       " 0.0  0.0  0.0  0.0  0.0  0.0  0.0     -0.227451  0.0  0.0  0.0  0.0\n",
       " 0.0  0.0  0.0  0.0  0.0  0.0  0.0     -2.14118   0.0  0.0  0.0  0.0\n",
       " 0.0  0.0  0.0  0.0  0.0  0.0  0.0     -2.04706   0.0  0.0  0.0  0.0"
      ]
     },
     "execution_count": 22,
     "metadata": {},
     "output_type": "execute_result"
    }
   ],
   "source": [
    "@time wperceptron = train(perceptron, xtrn, ytrn)"
   ]
  },
  {
   "cell_type": "code",
   "execution_count": 23,
   "metadata": {},
   "outputs": [
    {
     "data": {
      "text/plain": [
       "adaline (generic function with 1 method)"
      ]
     },
     "execution_count": 23,
     "metadata": {},
     "output_type": "execute_result"
    }
   ],
   "source": [
    "function adaline(w, x, y; lr=0.0001)\n",
    "    error = w * x - y\n",
    "    w .-=lr * error * x'\n",
    "end"
   ]
  },
  {
   "cell_type": "code",
   "execution_count": 24,
   "metadata": {},
   "outputs": [
    {
     "name": "stdout",
     "output_type": "stream",
     "text": [
      "(iter = 1, accuracy = 0.0993, wnorm = 0.0011197067f0)\n",
      "(iter = 2, accuracy = 0.11498333333333334, wnorm = 0.0015732059f0)\n",
      "(iter = 4, accuracy = 0.10363333333333333, wnorm = 0.002574287f0)\n",
      "(iter = 8, accuracy = 0.11326666666666667, wnorm = 0.0034773455f0)\n",
      "(iter = 16, accuracy = 0.19723333333333334, wnorm = 0.0052489904f0)\n",
      "(iter = 32, accuracy = 0.15298333333333333, wnorm = 0.009137772f0)\n",
      "(iter = 64, accuracy = 0.2892, wnorm = 0.014683782f0)\n",
      "(iter = 128, accuracy = 0.4221666666666667, wnorm = 0.02620069f0)\n",
      "(iter = 256, accuracy = 0.49605, wnorm = 0.043245707f0)\n",
      "(iter = 512, accuracy = 0.5553333333333333, wnorm = 0.06823031f0)\n",
      "(iter = 1024, accuracy = 0.73555, wnorm = 0.10469287f0)\n",
      "(iter = 2048, accuracy = 0.7642333333333333, wnorm = 0.16665664f0)\n",
      "(iter = 4096, accuracy = 0.7827166666666666, wnorm = 0.254468f0)\n",
      "(iter = 8192, accuracy = 0.7974, wnorm = 0.35880274f0)\n",
      "(iter = 16384, accuracy = 0.8251166666666667, wnorm = 0.46244785f0)\n",
      "(iter = 32768, accuracy = 0.8390333333333333, wnorm = 0.5627311f0)\n",
      "(iter = 65536, accuracy = 0.8460833333333333, wnorm = 0.6634014f0)\n",
      "(iter = 131072, accuracy = 0.84915, wnorm = 0.7794845f0)\n",
      "(iter = 262144, accuracy = 0.8480333333333333, wnorm = 0.9198733f0)\n",
      "(iter = 524288, accuracy = 0.8540166666666666, wnorm = 1.0951649f0)\n",
      "(iter = 1048576, accuracy = 0.8492833333333333, wnorm = 1.2904379f0)\n",
      " 48.133468 seconds (9.53 M allocations: 65.210 GiB, 14.69% gc time)\n"
     ]
    },
    {
     "data": {
      "text/plain": [
       "10×784 Array{Float32,2}:\n",
       " 0.0  0.0  0.0  0.0  0.0  0.0  0.0  0.0  0.0  …  0.0  0.0  0.0  0.0\n",
       " 0.0  0.0  0.0  0.0  0.0  0.0  0.0  0.0  0.0     0.0  0.0  0.0  0.0\n",
       " 0.0  0.0  0.0  0.0  0.0  0.0  0.0  0.0  0.0     0.0  0.0  0.0  0.0\n",
       " 0.0  0.0  0.0  0.0  0.0  0.0  0.0  0.0  0.0     0.0  0.0  0.0  0.0\n",
       " 0.0  0.0  0.0  0.0  0.0  0.0  0.0  0.0  0.0     0.0  0.0  0.0  0.0\n",
       " 0.0  0.0  0.0  0.0  0.0  0.0  0.0  0.0  0.0  …  0.0  0.0  0.0  0.0\n",
       " 0.0  0.0  0.0  0.0  0.0  0.0  0.0  0.0  0.0     0.0  0.0  0.0  0.0\n",
       " 0.0  0.0  0.0  0.0  0.0  0.0  0.0  0.0  0.0     0.0  0.0  0.0  0.0\n",
       " 0.0  0.0  0.0  0.0  0.0  0.0  0.0  0.0  0.0     0.0  0.0  0.0  0.0\n",
       " 0.0  0.0  0.0  0.0  0.0  0.0  0.0  0.0  0.0     0.0  0.0  0.0  0.0"
      ]
     },
     "execution_count": 24,
     "metadata": {},
     "output_type": "execute_result"
    }
   ],
   "source": [
    "@time wadaline = train(adaline, xtrn, ytrn)"
   ]
  },
  {
   "cell_type": "code",
   "execution_count": 25,
   "metadata": {},
   "outputs": [
    {
     "data": {
      "text/plain": [
       "softmax (generic function with 1 method)"
      ]
     },
     "execution_count": 25,
     "metadata": {},
     "output_type": "execute_result"
    }
   ],
   "source": [
    "function softmax( w, x, y; lr=0.01)\n",
    "    probs = exp.(w * x)\n",
    "    probs ./= sum(probs)\n",
    "    error = probs - y\n",
    "    w .-= lr * error * x'\n",
    "end"
   ]
  },
  {
   "cell_type": "code",
   "execution_count": 26,
   "metadata": {},
   "outputs": [
    {
     "name": "stdout",
     "output_type": "stream",
     "text": [
      "(iter = 1, accuracy = 0.09915, wnorm = 0.05874139f0)\n",
      "(iter = 2, accuracy = 0.09641666666666666, wnorm = 0.09345736f0)\n",
      "(iter = 4, accuracy = 0.17438333333333333, wnorm = 0.123013206f0)\n",
      "(iter = 8, accuracy = 0.18971666666666667, wnorm = 0.20881957f0)\n",
      "(iter = 16, accuracy = 0.26565, wnorm = 0.31606832f0)\n",
      "(iter = 32, accuracy = 0.36556666666666665, wnorm = 0.48388472f0)\n",
      "(iter = 64, accuracy = 0.4581, wnorm = 0.79003394f0)\n",
      "(iter = 128, accuracy = 0.6109166666666667, wnorm = 1.2114425f0)\n",
      "(iter = 256, accuracy = 0.7113833333333334, wnorm = 1.8747087f0)\n",
      "(iter = 512, accuracy = 0.78195, wnorm = 2.7205887f0)\n",
      "(iter = 1024, accuracy = 0.8278666666666666, wnorm = 3.6480122f0)\n",
      "(iter = 2048, accuracy = 0.85375, wnorm = 4.725615f0)\n",
      "(iter = 4096, accuracy = 0.8724833333333334, wnorm = 5.860556f0)\n",
      "(iter = 8192, accuracy = 0.88945, wnorm = 7.097817f0)\n",
      "(iter = 16384, accuracy = 0.8944166666666666, wnorm = 8.659387f0)\n",
      "(iter = 32768, accuracy = 0.90695, wnorm = 10.418147f0)\n",
      "(iter = 65536, accuracy = 0.9159166666666667, wnorm = 12.517838f0)\n",
      "(iter = 131072, accuracy = 0.91635, wnorm = 14.82942f0)\n",
      "(iter = 262144, accuracy = 0.9177833333333333, wnorm = 17.726805f0)\n",
      "(iter = 524288, accuracy = 0.9264, wnorm = 21.433971f0)\n",
      "(iter = 1048576, accuracy = 0.9254833333333333, wnorm = 26.510223f0)\n",
      " 47.681375 seconds (9.91 M allocations: 65.305 GiB, 14.23% gc time)\n"
     ]
    },
    {
     "data": {
      "text/plain": [
       "10×784 Array{Float32,2}:\n",
       " 0.0  0.0  0.0  0.0  0.0  0.0  0.0  0.0  0.0  …  0.0  0.0  0.0  0.0\n",
       " 0.0  0.0  0.0  0.0  0.0  0.0  0.0  0.0  0.0     0.0  0.0  0.0  0.0\n",
       " 0.0  0.0  0.0  0.0  0.0  0.0  0.0  0.0  0.0     0.0  0.0  0.0  0.0\n",
       " 0.0  0.0  0.0  0.0  0.0  0.0  0.0  0.0  0.0     0.0  0.0  0.0  0.0\n",
       " 0.0  0.0  0.0  0.0  0.0  0.0  0.0  0.0  0.0     0.0  0.0  0.0  0.0\n",
       " 0.0  0.0  0.0  0.0  0.0  0.0  0.0  0.0  0.0  …  0.0  0.0  0.0  0.0\n",
       " 0.0  0.0  0.0  0.0  0.0  0.0  0.0  0.0  0.0     0.0  0.0  0.0  0.0\n",
       " 0.0  0.0  0.0  0.0  0.0  0.0  0.0  0.0  0.0     0.0  0.0  0.0  0.0\n",
       " 0.0  0.0  0.0  0.0  0.0  0.0  0.0  0.0  0.0     0.0  0.0  0.0  0.0\n",
       " 0.0  0.0  0.0  0.0  0.0  0.0  0.0  0.0  0.0     0.0  0.0  0.0  0.0"
      ]
     },
     "execution_count": 26,
     "metadata": {},
     "output_type": "execute_result"
    }
   ],
   "source": [
    "@time wsoftmax = train(softmax, xtrn, ytrn)"
   ]
  },
  {
   "cell_type": "code",
   "execution_count": 30,
   "metadata": {},
   "outputs": [
    {
     "data": {
      "text/plain": [
       "optimize (generic function with 1 method)"
      ]
     },
     "execution_count": 30,
     "metadata": {},
     "output_type": "execute_result"
    }
   ],
   "source": [
    "# training via optimization\n",
    "function optimize(loss, x, y; lr=0.1, iters=2^20)\n",
    "    w = Param( ARRAY( zeros( size(y, 1), size(x, 1) ) ) )\n",
    "    n_examples = size(x,2)\n",
    "    next_print = 1\n",
    "    for t = 1:iters\n",
    "        i = rand(1:n_examples)\n",
    "        L = @diff loss(w, x[:,i], y[:,i])\n",
    "        ∇w = grad(L,w)\n",
    "        w .-= lr * ∇w\n",
    "        if t == next_print\n",
    "            println((iter=t, accuracy=acc(w,x,y), wnorm=norm(w)))\n",
    "            next_print = min(2t,iters)\n",
    "        end\n",
    "    end\n",
    "    w\n",
    "end"
   ]
  },
  {
   "cell_type": "code",
   "execution_count": 31,
   "metadata": {},
   "outputs": [
    {
     "data": {
      "text/plain": [
       "perceptronloss (generic function with 1 method)"
      ]
     },
     "execution_count": 31,
     "metadata": {},
     "output_type": "execute_result"
    }
   ],
   "source": [
    "function perceptronloss(w,x,y)\n",
    "    score = w * x\n",
    "    guess = argmax(score)\n",
    "    class = argmax(y)\n",
    "    score[guess] - score[class]\n",
    "end"
   ]
  },
  {
   "cell_type": "code",
   "execution_count": 32,
   "metadata": {},
   "outputs": [
    {
     "name": "stdout",
     "output_type": "stream",
     "text": [
      "(iter = 1, accuracy = 0.09736666666666667, wnorm = 11.994327f0)\n",
      "(iter = 2, accuracy = 0.09751666666666667, wnorm = 16.98135f0)\n",
      "(iter = 4, accuracy = 0.11601666666666667, wnorm = 21.507568f0)\n",
      "(iter = 8, accuracy = 0.1274, wnorm = 27.092562f0)\n",
      "(iter = 16, accuracy = 0.2914833333333333, wnorm = 35.89878f0)\n",
      "(iter = 32, accuracy = 0.47555, wnorm = 44.747078f0)\n",
      "(iter = 64, accuracy = 0.30051666666666665, wnorm = 63.20732f0)\n",
      "(iter = 128, accuracy = 0.58285, wnorm = 82.46719f0)\n",
      "(iter = 256, accuracy = 0.6792333333333334, wnorm = 109.288574f0)\n",
      "(iter = 512, accuracy = 0.7593, wnorm = 144.27118f0)\n",
      "(iter = 1024, accuracy = 0.7638666666666667, wnorm = 178.67558f0)\n",
      "(iter = 2048, accuracy = 0.7983, wnorm = 227.84065f0)\n",
      "(iter = 4096, accuracy = 0.7963333333333333, wnorm = 278.55872f0)\n",
      "(iter = 8192, accuracy = 0.8452, wnorm = 335.31934f0)\n",
      "(iter = 16384, accuracy = 0.8552, wnorm = 407.56577f0)\n",
      "(iter = 32768, accuracy = 0.85715, wnorm = 479.41226f0)\n",
      "(iter = 65536, accuracy = 0.8553, wnorm = 583.99976f0)\n",
      "(iter = 131072, accuracy = 0.8860333333333333, wnorm = 703.12317f0)\n",
      "(iter = 262144, accuracy = 0.9061166666666667, wnorm = 866.6765f0)\n",
      "(iter = 524288, accuracy = 0.8946666666666667, wnorm = 1061.6068f0)\n",
      "(iter = 1048576, accuracy = 0.8976166666666666, wnorm = 1324.2574f0)\n",
      "109.053630 seconds (138.08 M allocations: 70.422 GiB, 12.97% gc time)\n"
     ]
    }
   ],
   "source": [
    "@time wperceptron2 = optimize(perceptronloss,xtrn,ytrn,lr=1);"
   ]
  },
  {
   "cell_type": "code",
   "execution_count": 33,
   "metadata": {},
   "outputs": [
    {
     "data": {
      "text/plain": [
       "quadraticloss (generic function with 1 method)"
      ]
     },
     "execution_count": 33,
     "metadata": {},
     "output_type": "execute_result"
    }
   ],
   "source": [
    "function quadraticloss(w,x,y)\n",
    "    0.5 * sum(abs2, w * x - y)\n",
    "end"
   ]
  },
  {
   "cell_type": "code",
   "execution_count": 34,
   "metadata": {},
   "outputs": [
    {
     "name": "stdout",
     "output_type": "stream",
     "text": [
      "(iter = 1, accuracy = 0.09915, wnorm = 0.0009123806f0)\n",
      "(iter = 2, accuracy = 0.18126666666666666, wnorm = 0.0011192395f0)\n",
      "(iter = 4, accuracy = 0.12525, wnorm = 0.0019428008f0)\n",
      "(iter = 8, accuracy = 0.24768333333333334, wnorm = 0.0032802117f0)\n",
      "(iter = 16, accuracy = 0.2459, wnorm = 0.005103771f0)\n",
      "(iter = 32, accuracy = 0.22216666666666668, wnorm = 0.008813391f0)\n",
      "(iter = 64, accuracy = 0.2804833333333333, wnorm = 0.013814504f0)\n",
      "(iter = 128, accuracy = 0.30006666666666665, wnorm = 0.02399184f0)\n",
      "(iter = 256, accuracy = 0.35428333333333334, wnorm = 0.040716104f0)\n",
      "(iter = 512, accuracy = 0.6429166666666667, wnorm = 0.06564615f0)\n",
      "(iter = 1024, accuracy = 0.6990833333333333, wnorm = 0.10388712f0)\n",
      "(iter = 2048, accuracy = 0.7501, wnorm = 0.16638325f0)\n",
      "(iter = 4096, accuracy = 0.7838, wnorm = 0.25608873f0)\n",
      "(iter = 8192, accuracy = 0.8011, wnorm = 0.35674772f0)\n",
      "(iter = 16384, accuracy = 0.8284333333333334, wnorm = 0.46174675f0)\n",
      "(iter = 32768, accuracy = 0.8363666666666667, wnorm = 0.5626146f0)\n",
      "(iter = 65536, accuracy = 0.8444833333333334, wnorm = 0.6675593f0)\n",
      "(iter = 131072, accuracy = 0.8463666666666667, wnorm = 0.7803612f0)\n",
      "(iter = 262144, accuracy = 0.8490833333333333, wnorm = 0.9201414f0)\n",
      "(iter = 524288, accuracy = 0.84965, wnorm = 1.0936188f0)\n",
      "(iter = 1048576, accuracy = 0.8487166666666667, wnorm = 1.2959034f0)\n",
      "116.813547 seconds (106.71 M allocations: 130.829 GiB, 11.09% gc time)\n"
     ]
    }
   ],
   "source": [
    "@time wadaline2 = optimize(quadraticloss,xtrn,ytrn,lr=0.0001);"
   ]
  },
  {
   "cell_type": "code",
   "execution_count": 35,
   "metadata": {},
   "outputs": [
    {
     "data": {
      "text/plain": [
       "negloglik (generic function with 1 method)"
      ]
     },
     "execution_count": 35,
     "metadata": {},
     "output_type": "execute_result"
    }
   ],
   "source": [
    "function negloglik(w,x,y)\n",
    "    probs = exp.(w * x)\n",
    "    probs = probs / sum(probs)\n",
    "    class = argmax(y)\n",
    "    -log(probs[class])\n",
    "end"
   ]
  },
  {
   "cell_type": "code",
   "execution_count": 36,
   "metadata": {},
   "outputs": [
    {
     "name": "stdout",
     "output_type": "stream",
     "text": [
      "(iter = 1, accuracy = 0.09736666666666667, wnorm = 0.07533733f0)\n",
      "(iter = 2, accuracy = 0.1178, wnorm = 0.11761533f0)\n",
      "(iter = 4, accuracy = 0.13635, wnorm = 0.16791211f0)\n",
      "(iter = 8, accuracy = 0.2720666666666667, wnorm = 0.21142988f0)\n",
      "(iter = 16, accuracy = 0.1513, wnorm = 0.34892815f0)\n",
      "(iter = 32, accuracy = 0.4332, wnorm = 0.48950693f0)\n",
      "(iter = 64, accuracy = 0.5525, wnorm = 0.76276207f0)\n",
      "(iter = 128, accuracy = 0.6042, wnorm = 1.1828429f0)\n",
      "(iter = 256, accuracy = 0.6960833333333334, wnorm = 1.8737861f0)\n",
      "(iter = 512, accuracy = 0.7996666666666666, wnorm = 2.6965687f0)\n",
      "(iter = 1024, accuracy = 0.8137666666666666, wnorm = 3.6402164f0)\n",
      "(iter = 2048, accuracy = 0.8639, wnorm = 4.7378488f0)\n",
      "(iter = 4096, accuracy = 0.8807666666666667, wnorm = 5.9154253f0)\n",
      "(iter = 8192, accuracy = 0.8876166666666667, wnorm = 7.185288f0)\n",
      "(iter = 16384, accuracy = 0.8885166666666666, wnorm = 8.734807f0)\n",
      "(iter = 32768, accuracy = 0.9077833333333334, wnorm = 10.440622f0)\n",
      "(iter = 65536, accuracy = 0.9107833333333333, wnorm = 12.471324f0)\n",
      "(iter = 131072, accuracy = 0.9157, wnorm = 14.681085f0)\n",
      "(iter = 262144, accuracy = 0.9242333333333334, wnorm = 17.62452f0)\n",
      "(iter = 524288, accuracy = 0.9208166666666666, wnorm = 21.502531f0)\n",
      "(iter = 1048576, accuracy = 0.9206666666666666, wnorm = 26.579397f0)\n",
      "177.105330 seconds (210.43 M allocations: 104.580 GiB, 7.77% gc time)\n"
     ]
    }
   ],
   "source": [
    "@time wsoftmax2 = optimize(negloglik,xtrn,ytrn,lr=0.01);"
   ]
  },
  {
   "cell_type": "code",
   "execution_count": null,
   "metadata": {},
   "outputs": [],
   "source": []
  }
 ],
 "metadata": {
  "kernelspec": {
   "display_name": "Julia 1.4.0",
   "language": "julia",
   "name": "julia-1.4"
  },
  "language_info": {
   "file_extension": ".jl",
   "mimetype": "application/julia",
   "name": "julia",
   "version": "1.4.0"
  }
 },
 "nbformat": 4,
 "nbformat_minor": 4
}
